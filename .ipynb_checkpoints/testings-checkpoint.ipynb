{
 "cells": [
  {
   "cell_type": "markdown",
   "id": "7f2b120f",
   "metadata": {},
   "source": [
    "# Formating Airbnb extracts"
   ]
  },
  {
   "cell_type": "code",
   "execution_count": 29,
   "id": "195ed86f",
   "metadata": {},
   "outputs": [],
   "source": [
    "import csv\n",
    "import pandas as pd\n",
    "import numpy as np\n",
    "#import xlrd\n",
    "#import openpyxl\n",
    "import matplotlib.pyplot as plt\n",
    "import seaborn as sns"
   ]
  },
  {
   "cell_type": "markdown",
   "id": "cb766bda",
   "metadata": {
    "heading_collapsed": true
   },
   "source": [
    "### Importing the historical data"
   ]
  },
  {
   "cell_type": "code",
   "execution_count": 30,
   "id": "77f40784",
   "metadata": {
    "hidden": true
   },
   "outputs": [],
   "source": [
    "\"\"\"Importing the an excel version of the historic data\"\"\"\n",
    "file = \"data/historic_data_copy.xls\"\n",
    "df = pd.read_excel(file)"
   ]
  },
  {
   "cell_type": "markdown",
   "id": "4b15f914",
   "metadata": {
    "heading_collapsed": true
   },
   "source": [
    "### Formatting the header"
   ]
  },
  {
   "cell_type": "code",
   "execution_count": 31,
   "id": "1794c26b",
   "metadata": {
    "hidden": true
   },
   "outputs": [],
   "source": [
    "\"\"\"Translation of the columns name in english\"\"\"\n",
    "columns_en = [\n",
    "    \"Confirmation_Code\",\n",
    "    \"Status\",\n",
    "    \"Guest\",\n",
    "    \"Contact\",\n",
    "    \"Adults\",\n",
    "    \"Children\",\n",
    "    \"Infants\",\n",
    "    \"Start_Date\",\n",
    "    \"End_Date\",\n",
    "    \"Number_of_Nights\",\n",
    "    \"Reserved\",\n",
    "    \"Advertisement\",\n",
    "    \"Revenue\"\n",
    "]"
   ]
  },
  {
   "cell_type": "code",
   "execution_count": 32,
   "id": "68259803",
   "metadata": {
    "hidden": true
   },
   "outputs": [],
   "source": [
    "\"\"\"Renaming teh columns\"\"\"\n",
    "df.columns = columns_en"
   ]
  },
  {
   "cell_type": "code",
   "execution_count": 33,
   "id": "ba360cd2",
   "metadata": {
    "hidden": true
   },
   "outputs": [],
   "source": [
    "\"\"\"Changing dates to datetime format\"\"\"\n",
    "df[['Start_Date', 'End_Date', 'Reserved']] = df[['Start_Date', 'End_Date', 'Reserved']].apply(pd.to_datetime)"
   ]
  },
  {
   "cell_type": "code",
   "execution_count": 34,
   "id": "22eb12bd",
   "metadata": {
    "hidden": true
   },
   "outputs": [
    {
     "data": {
      "text/plain": [
       "array(['Ancien voyageur', 'Annul√©e par le voyageur',\n",
       "       'Annul√©e par Airbnb', 'Modification de voyage envoy√©e',\n",
       "       'Demande de modification de voyage',\n",
       "       'Laissez un commentaire sur le voyageur (expire bient√¥t)',\n",
       "       'En attente de commentaire du voyageur', 'S√©jour en cours',\n",
       "       'Laissez un commentaire sur le voyageur', 'Confirm√©e'],\n",
       "      dtype=object)"
      ]
     },
     "execution_count": 34,
     "metadata": {},
     "output_type": "execute_result"
    }
   ],
   "source": [
    "df['Status'].unique()"
   ]
  },
  {
   "cell_type": "markdown",
   "id": "2abf5d7f",
   "metadata": {
    "heading_collapsed": true
   },
   "source": [
    "### Formating the revenue column"
   ]
  },
  {
   "cell_type": "code",
   "execution_count": 35,
   "id": "5f10efd4",
   "metadata": {
    "hidden": true
   },
   "outputs": [],
   "source": [
    "\"\"\"Removing the 4 last characters in the revenue string\"\"\"\n",
    "df['Revenue']=df['Revenue'].str[:-5]"
   ]
  },
  {
   "cell_type": "code",
   "execution_count": 36,
   "id": "633e4ca0",
   "metadata": {
    "hidden": true
   },
   "outputs": [],
   "source": [
    "\"\"\"Removing ',ÄØ' in df['Revenue']\"\"\"\n",
    "modified_rev = df[df['Revenue'].str.contains('ÄØ')]['Revenue'].str[0] +\\\n",
    "                df[df['Revenue'].str.contains('ÄØ')]['Revenue'].str[4:]\n",
    "for i in modified_rev.index:\n",
    "    df.iloc[i, 12] = modified_rev[i]"
   ]
  },
  {
   "cell_type": "code",
   "execution_count": 37,
   "id": "6b17b31b",
   "metadata": {
    "hidden": true
   },
   "outputs": [],
   "source": [
    "\"\"\"Converting the revenue into float\"\"\"\n",
    "df['Revenue'] = df['Revenue'].str.replace(',', '.').astype(float)"
   ]
  },
  {
   "cell_type": "markdown",
   "id": "79113bf6",
   "metadata": {
    "heading_collapsed": true
   },
   "source": [
    "### Adding Owner column"
   ]
  },
  {
   "cell_type": "code",
   "execution_count": 38,
   "id": "b604c94c",
   "metadata": {
    "hidden": true
   },
   "outputs": [
    {
     "data": {
      "text/plain": [
       "array(['Brand New & Elegant appart hotel / Best location',\n",
       "       'Best location & New appart / Gu√©liz/ Free Parking',\n",
       "       'Cozy&elegant Appart h√¥tel studio/best location',\n",
       "       'Elegant&Familial appt/Hivernage/Pool/Best Location',\n",
       "       'Cozy&luxurious/Swimming pool/Center of Marrakech',\n",
       "       'Elegant, Safe & Cozy ~ 5*Location ~ Pool ~ Parking',\n",
       "       'Brand New & Elegant appart hotel / Best¬†location',\n",
       "       'Elegant, Safe & Cozy - 5*Location - Pool - Parking',\n",
       "       'Cozy&Elegant - Swimming Pool - Center of Marrakech'], dtype=object)"
      ]
     },
     "execution_count": 38,
     "metadata": {},
     "output_type": "execute_result"
    }
   ],
   "source": [
    "df.Advertisement.unique()"
   ]
  },
  {
   "cell_type": "code",
   "execution_count": 39,
   "id": "69f2a827",
   "metadata": {
    "hidden": true
   },
   "outputs": [],
   "source": [
    "\"\"\"Importing the apartment matiching index \"\"\"\n",
    "apartments = \"data/apartments.xls\"\n",
    "match_df = pd.read_excel(apartments)"
   ]
  },
  {
   "cell_type": "code",
   "execution_count": 40,
   "id": "b6c69d8f",
   "metadata": {
    "hidden": true
   },
   "outputs": [
    {
     "data": {
      "text/html": [
       "<div>\n",
       "<style scoped>\n",
       "    .dataframe tbody tr th:only-of-type {\n",
       "        vertical-align: middle;\n",
       "    }\n",
       "\n",
       "    .dataframe tbody tr th {\n",
       "        vertical-align: top;\n",
       "    }\n",
       "\n",
       "    .dataframe thead th {\n",
       "        text-align: right;\n",
       "    }\n",
       "</style>\n",
       "<table border=\"1\" class=\"dataframe\">\n",
       "  <thead>\n",
       "    <tr style=\"text-align: right;\">\n",
       "      <th></th>\n",
       "      <th>Apartment Name</th>\n",
       "      <th>Ad name 1</th>\n",
       "      <th>Ad name 2</th>\n",
       "      <th>Owner</th>\n",
       "    </tr>\n",
       "  </thead>\n",
       "  <tbody>\n",
       "    <tr>\n",
       "      <th>0</th>\n",
       "      <td>Alia 22</td>\n",
       "      <td>Cozy and Modern Studio in Prime Central Location</td>\n",
       "      <td>Cozy&amp;elegant Appart h√¥tel studio/best location</td>\n",
       "      <td>Mohamed</td>\n",
       "    </tr>\n",
       "    <tr>\n",
       "      <th>1</th>\n",
       "      <td>Oumnia A2 17</td>\n",
       "      <td>Elegant&amp;Familial appt/Hivernage/Pool/Best Loca...</td>\n",
       "      <td>NaN</td>\n",
       "      <td>Mounia</td>\n",
       "    </tr>\n",
       "    <tr>\n",
       "      <th>2</th>\n",
       "      <td>Menara 12</td>\n",
       "      <td>Cozy&amp;Elegant - Swimming Pool - Center of Marra...</td>\n",
       "      <td>NaN</td>\n",
       "      <td>Mohamed</td>\n",
       "    </tr>\n",
       "    <tr>\n",
       "      <th>3</th>\n",
       "      <td>Menara 15</td>\n",
       "      <td>Cozy&amp;luxurious/Swimming pool/Center of Marrakech</td>\n",
       "      <td>NaN</td>\n",
       "      <td>Mohamed</td>\n",
       "    </tr>\n",
       "    <tr>\n",
       "      <th>4</th>\n",
       "      <td>Alia 37</td>\n",
       "      <td>Modern and Elegant Studio in the Heart of Gueliz</td>\n",
       "      <td>Modern and Elegant Studio in the Heart of Gueliz</td>\n",
       "      <td>Mohamed</td>\n",
       "    </tr>\n",
       "    <tr>\n",
       "      <th>5</th>\n",
       "      <td>Alia 36</td>\n",
       "      <td>Best location &amp; New appart / Gu√©liz/ Free Par...</td>\n",
       "      <td>NaN</td>\n",
       "      <td>Mounia</td>\n",
       "    </tr>\n",
       "    <tr>\n",
       "      <th>6</th>\n",
       "      <td>Alia 41</td>\n",
       "      <td>Brand New &amp; Elegant appart hotel / Best location</td>\n",
       "      <td>Brand New &amp; Elegant appart hotel / Best¬†location</td>\n",
       "      <td>Mohamed</td>\n",
       "    </tr>\n",
       "    <tr>\n",
       "      <th>7</th>\n",
       "      <td>Palmeraie B9 A1</td>\n",
       "      <td>Elegant, Safe &amp; Cozy ~ 5*Location ~ Pool ~ Par...</td>\n",
       "      <td>Elegant, Safe &amp; Cozy - 5*Location - Pool - Par...</td>\n",
       "      <td>Mounia</td>\n",
       "    </tr>\n",
       "  </tbody>\n",
       "</table>\n",
       "</div>"
      ],
      "text/plain": [
       "    Apartment Name                                          Ad name 1  \\\n",
       "0          Alia 22   Cozy and Modern Studio in Prime Central Location   \n",
       "1     Oumnia A2 17  Elegant&Familial appt/Hivernage/Pool/Best Loca...   \n",
       "2        Menara 12  Cozy&Elegant - Swimming Pool - Center of Marra...   \n",
       "3        Menara 15   Cozy&luxurious/Swimming pool/Center of Marrakech   \n",
       "4          Alia 37   Modern and Elegant Studio in the Heart of Gueliz   \n",
       "5          Alia 36  Best location & New appart / Gu√©liz/ Free Par...   \n",
       "6          Alia 41   Brand New & Elegant appart hotel / Best location   \n",
       "7  Palmeraie B9 A1  Elegant, Safe & Cozy ~ 5*Location ~ Pool ~ Par...   \n",
       "\n",
       "                                           Ad name 2    Owner  \n",
       "0    Cozy&elegant Appart h√¥tel studio/best location  Mohamed  \n",
       "1                                                NaN   Mounia  \n",
       "2                                                NaN  Mohamed  \n",
       "3                                                NaN  Mohamed  \n",
       "4   Modern and Elegant Studio in the Heart of Gueliz  Mohamed  \n",
       "5                                                NaN   Mounia  \n",
       "6  Brand New & Elegant appart hotel / Best¬†location  Mohamed  \n",
       "7  Elegant, Safe & Cozy - 5*Location - Pool - Par...   Mounia  "
      ]
     },
     "execution_count": 40,
     "metadata": {},
     "output_type": "execute_result"
    }
   ],
   "source": [
    "match_df"
   ]
  },
  {
   "cell_type": "code",
   "execution_count": 41,
   "id": "2d0df0f1",
   "metadata": {
    "hidden": true
   },
   "outputs": [],
   "source": [
    "df = pd.merge(df, match_df[['Apartment Name', 'Ad name 1', 'Owner']], how=\"left\", left_on='Advertisement', right_on= 'Ad name 1')\n",
    "df = pd.merge(df, match_df[['Apartment Name', 'Ad name 2', 'Owner']], how=\"left\", left_on='Advertisement', right_on= 'Ad name 2')"
   ]
  },
  {
   "cell_type": "code",
   "execution_count": 42,
   "id": "bed3c96b",
   "metadata": {
    "hidden": true
   },
   "outputs": [],
   "source": [
    "df['Owner'] = df['Owner_x'].combine_first(df['Owner_y'])"
   ]
  },
  {
   "cell_type": "code",
   "execution_count": 43,
   "id": "876e7ea7",
   "metadata": {
    "hidden": true
   },
   "outputs": [],
   "source": [
    "df.drop(columns=['Ad name 1', 'Ad name 2', 'Owner_x', 'Owner_y'], inplace=True)"
   ]
  },
  {
   "cell_type": "code",
   "execution_count": 44,
   "id": "0d97c4e2",
   "metadata": {
    "hidden": true
   },
   "outputs": [],
   "source": [
    "modified_code = df[df['Apartment Name_y'].notnull()]['Apartment Name_y']\n",
    "for i in modified_code.index:\n",
    "    df.iloc[i, 13] = modified_code[i]"
   ]
  },
  {
   "cell_type": "code",
   "execution_count": 45,
   "id": "3c6ce1dd",
   "metadata": {
    "hidden": true
   },
   "outputs": [],
   "source": [
    "df = df.rename(columns= {'Apartment Name_x':'Apartment_code'})\n",
    "df.drop(columns=['Apartment Name_y'], inplace=True)"
   ]
  },
  {
   "cell_type": "markdown",
   "id": "4412cb03",
   "metadata": {
    "heading_collapsed": true
   },
   "source": [
    "### Status formating"
   ]
  },
  {
   "cell_type": "code",
   "execution_count": 46,
   "id": "de8d0bc7",
   "metadata": {
    "hidden": true
   },
   "outputs": [],
   "source": [
    "translation_map = {\n",
    "    'Ancien voyageur': 'Past traveler',\n",
    "    'Annul√©e par le voyageur': 'Cancelled by the traveler',\n",
    "    'Annul√©e par Airbnb': 'Cancelled by Airbnb',\n",
    "    'Modification de voyage envoy√©e': 'Trip modification sent',\n",
    "    'Demande de modification de voyage': 'Trip modification request',\n",
    "    'Laissez un commentaire sur le voyageur (expire bient√¥t)': 'Leave a comment on the traveler (expires soon)',\n",
    "    'En attente de commentaire du voyageur': 'Awaiting comment from the traveler',\n",
    "    'S√©jour en cours': 'Stay in progress',\n",
    "    'Laissez un commentaire sur le voyageur': 'Leave a comment on the traveler',\n",
    "    'Confirm√©e': 'Confirmed'\n",
    "}\n",
    "df['Status'] = df['Status'].map(translation_map)"
   ]
  },
  {
   "cell_type": "code",
   "execution_count": 47,
   "id": "4770357b",
   "metadata": {
    "hidden": true
   },
   "outputs": [],
   "source": [
    "df.drop(index=df[df.Revenue == 0].index, inplace=True)"
   ]
  },
  {
   "cell_type": "markdown",
   "id": "23197c0e",
   "metadata": {
    "heading_collapsed": true
   },
   "source": [
    "### Removing irrelevant columns"
   ]
  },
  {
   "cell_type": "code",
   "execution_count": 48,
   "id": "1e4f8ac7",
   "metadata": {
    "hidden": true
   },
   "outputs": [],
   "source": [
    "df.drop(columns=['Guest', 'Contact', 'Adults', 'Children', 'Infants', 'Advertisement'], inplace=True)"
   ]
  },
  {
   "cell_type": "markdown",
   "id": "1945a740",
   "metadata": {
    "heading_collapsed": true
   },
   "source": [
    "### Creating a table for daily revenue"
   ]
  },
  {
   "cell_type": "code",
   "execution_count": 49,
   "id": "11cf9969",
   "metadata": {
    "hidden": true
   },
   "outputs": [],
   "source": [
    "rows = []\n",
    "for i, row in df.iterrows():\n",
    "    for single_date in pd.date_range(start=row.Start_Date, end=row.End_Date, inclusive= 'left'):\n",
    "        rows.append({\n",
    "            'Confirmation_Code': row['Confirmation_Code'],\n",
    "            'Date': single_date,\n",
    "            'Apartment_code': row['Apartment_code'],\n",
    "            'Owner': row['Owner'],\n",
    "            'Status': row['Status'],\n",
    "            'Reserved': row['Reserved'],\n",
    "            'Revenue': row['Revenue'] / (row['Number_of_Nights'])  # Split revenue equally per day\n",
    "        })  \n",
    "        \n",
    "df_days = pd.DataFrame(rows)"
   ]
  },
  {
   "cell_type": "code",
   "execution_count": 50,
   "id": "a0a62f88",
   "metadata": {
    "hidden": true
   },
   "outputs": [
    {
     "data": {
      "text/html": [
       "<div>\n",
       "<style scoped>\n",
       "    .dataframe tbody tr th:only-of-type {\n",
       "        vertical-align: middle;\n",
       "    }\n",
       "\n",
       "    .dataframe tbody tr th {\n",
       "        vertical-align: top;\n",
       "    }\n",
       "\n",
       "    .dataframe thead th {\n",
       "        text-align: right;\n",
       "    }\n",
       "</style>\n",
       "<table border=\"1\" class=\"dataframe\">\n",
       "  <thead>\n",
       "    <tr style=\"text-align: right;\">\n",
       "      <th></th>\n",
       "      <th>Confirmation_Code</th>\n",
       "      <th>Date</th>\n",
       "      <th>Apartment_code</th>\n",
       "      <th>Owner</th>\n",
       "      <th>Status</th>\n",
       "      <th>Reserved</th>\n",
       "      <th>Revenue</th>\n",
       "    </tr>\n",
       "  </thead>\n",
       "  <tbody>\n",
       "    <tr>\n",
       "      <th>0</th>\n",
       "      <td>HMWSB8TNDQ</td>\n",
       "      <td>2022-02-24</td>\n",
       "      <td>Alia 41</td>\n",
       "      <td>Mohamed</td>\n",
       "      <td>Past traveler</td>\n",
       "      <td>2022-02-23</td>\n",
       "      <td>54.740000</td>\n",
       "    </tr>\n",
       "    <tr>\n",
       "      <th>1</th>\n",
       "      <td>HMWSB8TNDQ</td>\n",
       "      <td>2022-02-25</td>\n",
       "      <td>Alia 41</td>\n",
       "      <td>Mohamed</td>\n",
       "      <td>Past traveler</td>\n",
       "      <td>2022-02-23</td>\n",
       "      <td>54.740000</td>\n",
       "    </tr>\n",
       "    <tr>\n",
       "      <th>2</th>\n",
       "      <td>HMWSB8TNDQ</td>\n",
       "      <td>2022-02-26</td>\n",
       "      <td>Alia 41</td>\n",
       "      <td>Mohamed</td>\n",
       "      <td>Past traveler</td>\n",
       "      <td>2022-02-23</td>\n",
       "      <td>54.740000</td>\n",
       "    </tr>\n",
       "    <tr>\n",
       "      <th>3</th>\n",
       "      <td>HMWSB8TNDQ</td>\n",
       "      <td>2022-02-27</td>\n",
       "      <td>Alia 41</td>\n",
       "      <td>Mohamed</td>\n",
       "      <td>Past traveler</td>\n",
       "      <td>2022-02-23</td>\n",
       "      <td>54.740000</td>\n",
       "    </tr>\n",
       "    <tr>\n",
       "      <th>4</th>\n",
       "      <td>HMWSB8TNDQ</td>\n",
       "      <td>2022-02-28</td>\n",
       "      <td>Alia 41</td>\n",
       "      <td>Mohamed</td>\n",
       "      <td>Past traveler</td>\n",
       "      <td>2022-02-23</td>\n",
       "      <td>54.740000</td>\n",
       "    </tr>\n",
       "    <tr>\n",
       "      <th>...</th>\n",
       "      <td>...</td>\n",
       "      <td>...</td>\n",
       "      <td>...</td>\n",
       "      <td>...</td>\n",
       "      <td>...</td>\n",
       "      <td>...</td>\n",
       "      <td>...</td>\n",
       "    </tr>\n",
       "    <tr>\n",
       "      <th>2759</th>\n",
       "      <td>HMD3QHKSXQ</td>\n",
       "      <td>2024-10-10</td>\n",
       "      <td>Palmeraie B9 A1</td>\n",
       "      <td>Mounia</td>\n",
       "      <td>Confirmed</td>\n",
       "      <td>2024-08-26</td>\n",
       "      <td>189.958333</td>\n",
       "    </tr>\n",
       "    <tr>\n",
       "      <th>2760</th>\n",
       "      <td>HMSYDKCWJK</td>\n",
       "      <td>2024-10-13</td>\n",
       "      <td>Oumnia A2 17</td>\n",
       "      <td>Mounia</td>\n",
       "      <td>Confirmed</td>\n",
       "      <td>2024-08-27</td>\n",
       "      <td>162.320000</td>\n",
       "    </tr>\n",
       "    <tr>\n",
       "      <th>2761</th>\n",
       "      <td>HMSYDKCWJK</td>\n",
       "      <td>2024-10-14</td>\n",
       "      <td>Oumnia A2 17</td>\n",
       "      <td>Mounia</td>\n",
       "      <td>Confirmed</td>\n",
       "      <td>2024-08-27</td>\n",
       "      <td>162.320000</td>\n",
       "    </tr>\n",
       "    <tr>\n",
       "      <th>2762</th>\n",
       "      <td>HMSYDKCWJK</td>\n",
       "      <td>2024-10-15</td>\n",
       "      <td>Oumnia A2 17</td>\n",
       "      <td>Mounia</td>\n",
       "      <td>Confirmed</td>\n",
       "      <td>2024-08-27</td>\n",
       "      <td>162.320000</td>\n",
       "    </tr>\n",
       "    <tr>\n",
       "      <th>2763</th>\n",
       "      <td>HMSYDKCWJK</td>\n",
       "      <td>2024-10-16</td>\n",
       "      <td>Oumnia A2 17</td>\n",
       "      <td>Mounia</td>\n",
       "      <td>Confirmed</td>\n",
       "      <td>2024-08-27</td>\n",
       "      <td>162.320000</td>\n",
       "    </tr>\n",
       "  </tbody>\n",
       "</table>\n",
       "<p>2764 rows × 7 columns</p>\n",
       "</div>"
      ],
      "text/plain": [
       "     Confirmation_Code       Date   Apartment_code    Owner         Status  \\\n",
       "0           HMWSB8TNDQ 2022-02-24          Alia 41  Mohamed  Past traveler   \n",
       "1           HMWSB8TNDQ 2022-02-25          Alia 41  Mohamed  Past traveler   \n",
       "2           HMWSB8TNDQ 2022-02-26          Alia 41  Mohamed  Past traveler   \n",
       "3           HMWSB8TNDQ 2022-02-27          Alia 41  Mohamed  Past traveler   \n",
       "4           HMWSB8TNDQ 2022-02-28          Alia 41  Mohamed  Past traveler   \n",
       "...                ...        ...              ...      ...            ...   \n",
       "2759        HMD3QHKSXQ 2024-10-10  Palmeraie B9 A1   Mounia      Confirmed   \n",
       "2760        HMSYDKCWJK 2024-10-13     Oumnia A2 17   Mounia      Confirmed   \n",
       "2761        HMSYDKCWJK 2024-10-14     Oumnia A2 17   Mounia      Confirmed   \n",
       "2762        HMSYDKCWJK 2024-10-15     Oumnia A2 17   Mounia      Confirmed   \n",
       "2763        HMSYDKCWJK 2024-10-16     Oumnia A2 17   Mounia      Confirmed   \n",
       "\n",
       "       Reserved     Revenue  \n",
       "0    2022-02-23   54.740000  \n",
       "1    2022-02-23   54.740000  \n",
       "2    2022-02-23   54.740000  \n",
       "3    2022-02-23   54.740000  \n",
       "4    2022-02-23   54.740000  \n",
       "...         ...         ...  \n",
       "2759 2024-08-26  189.958333  \n",
       "2760 2024-08-27  162.320000  \n",
       "2761 2024-08-27  162.320000  \n",
       "2762 2024-08-27  162.320000  \n",
       "2763 2024-08-27  162.320000  \n",
       "\n",
       "[2764 rows x 7 columns]"
      ]
     },
     "execution_count": 50,
     "metadata": {},
     "output_type": "execute_result"
    }
   ],
   "source": [
    "df_days"
   ]
  },
  {
   "cell_type": "markdown",
   "id": "ff6e70af",
   "metadata": {},
   "source": [
    "# Analysis"
   ]
  },
  {
   "cell_type": "markdown",
   "id": "f24ead0f",
   "metadata": {},
   "source": [
    "### Montly reveue per apartment"
   ]
  },
  {
   "cell_type": "code",
   "execution_count": 51,
   "id": "2e00d65e",
   "metadata": {},
   "outputs": [],
   "source": [
    "# Add a Month column for aggregation\n",
    "df_days['Month'] = df_days['Date'].dt.to_period('M')\n",
    "\n",
    "# Pivot table to aggregate revenue per apartment and month\n",
    "revenue_pivot = df_days.pivot_table(\n",
    "    index='Apartment_code',\n",
    "    columns='Month',\n",
    "    values='Revenue',\n",
    "    aggfunc='sum',\n",
    "    fill_value=0\n",
    ")"
   ]
  },
  {
   "cell_type": "code",
   "execution_count": 52,
   "id": "524d3632",
   "metadata": {},
   "outputs": [
    {
     "data": {
      "text/html": [
       "<div>\n",
       "<style scoped>\n",
       "    .dataframe tbody tr th:only-of-type {\n",
       "        vertical-align: middle;\n",
       "    }\n",
       "\n",
       "    .dataframe tbody tr th {\n",
       "        vertical-align: top;\n",
       "    }\n",
       "\n",
       "    .dataframe thead th {\n",
       "        text-align: right;\n",
       "    }\n",
       "</style>\n",
       "<table border=\"1\" class=\"dataframe\">\n",
       "  <thead>\n",
       "    <tr style=\"text-align: right;\">\n",
       "      <th>Month</th>\n",
       "      <th>2022-02</th>\n",
       "      <th>2022-03</th>\n",
       "      <th>2022-04</th>\n",
       "      <th>2022-05</th>\n",
       "      <th>2022-06</th>\n",
       "      <th>2022-07</th>\n",
       "      <th>2022-08</th>\n",
       "      <th>2022-09</th>\n",
       "      <th>2022-10</th>\n",
       "      <th>2022-11</th>\n",
       "      <th>...</th>\n",
       "      <th>2024-01</th>\n",
       "      <th>2024-02</th>\n",
       "      <th>2024-03</th>\n",
       "      <th>2024-04</th>\n",
       "      <th>2024-05</th>\n",
       "      <th>2024-06</th>\n",
       "      <th>2024-07</th>\n",
       "      <th>2024-08</th>\n",
       "      <th>2024-09</th>\n",
       "      <th>2024-10</th>\n",
       "    </tr>\n",
       "    <tr>\n",
       "      <th>Apartment_code</th>\n",
       "      <th></th>\n",
       "      <th></th>\n",
       "      <th></th>\n",
       "      <th></th>\n",
       "      <th></th>\n",
       "      <th></th>\n",
       "      <th></th>\n",
       "      <th></th>\n",
       "      <th></th>\n",
       "      <th></th>\n",
       "      <th></th>\n",
       "      <th></th>\n",
       "      <th></th>\n",
       "      <th></th>\n",
       "      <th></th>\n",
       "      <th></th>\n",
       "      <th></th>\n",
       "      <th></th>\n",
       "      <th></th>\n",
       "      <th></th>\n",
       "      <th></th>\n",
       "    </tr>\n",
       "  </thead>\n",
       "  <tbody>\n",
       "    <tr>\n",
       "      <th>Alia 22</th>\n",
       "      <td></td>\n",
       "      <td></td>\n",
       "      <td></td>\n",
       "      <td>567.76</td>\n",
       "      <td>996.38</td>\n",
       "      <td>1065.464444</td>\n",
       "      <td>1338.385556</td>\n",
       "      <td>1324.18</td>\n",
       "      <td>1426.13</td>\n",
       "      <td>1350.41</td>\n",
       "      <td>...</td>\n",
       "      <td>1225.371667</td>\n",
       "      <td>1914.1775</td>\n",
       "      <td>782.3825</td>\n",
       "      <td>1448.265143</td>\n",
       "      <td>2821.821524</td>\n",
       "      <td>650.925333</td>\n",
       "      <td>1704.261333</td>\n",
       "      <td>2197.396667</td>\n",
       "      <td></td>\n",
       "      <td></td>\n",
       "    </tr>\n",
       "    <tr>\n",
       "      <th>Alia 36</th>\n",
       "      <td></td>\n",
       "      <td>1146.84</td>\n",
       "      <td>52.38</td>\n",
       "      <td>1333.31</td>\n",
       "      <td>1432.2</td>\n",
       "      <td>1406.5</td>\n",
       "      <td>1237.165714</td>\n",
       "      <td>1401.788571</td>\n",
       "      <td>1100.685714</td>\n",
       "      <td>1282.36</td>\n",
       "      <td>...</td>\n",
       "      <td>1217.415714</td>\n",
       "      <td>1166.284286</td>\n",
       "      <td>394.555714</td>\n",
       "      <td>855.87</td>\n",
       "      <td>1254.883333</td>\n",
       "      <td>387.736667</td>\n",
       "      <td></td>\n",
       "      <td>1391.640909</td>\n",
       "      <td>413.959091</td>\n",
       "      <td></td>\n",
       "    </tr>\n",
       "    <tr>\n",
       "      <th>Alia 41</th>\n",
       "      <td>273.7</td>\n",
       "      <td>1256.96</td>\n",
       "      <td>784.064286</td>\n",
       "      <td>1531.315714</td>\n",
       "      <td>1051.4</td>\n",
       "      <td>1417.556667</td>\n",
       "      <td>2029.267333</td>\n",
       "      <td>1481.436</td>\n",
       "      <td>1464.46</td>\n",
       "      <td>1434.044286</td>\n",
       "      <td>...</td>\n",
       "      <td>1172.89</td>\n",
       "      <td>1063.69381</td>\n",
       "      <td>934.30619</td>\n",
       "      <td>1389.91</td>\n",
       "      <td>1403.330303</td>\n",
       "      <td>844.986364</td>\n",
       "      <td>897.818</td>\n",
       "      <td>1102.762</td>\n",
       "      <td>368.6</td>\n",
       "      <td></td>\n",
       "    </tr>\n",
       "    <tr>\n",
       "      <th>Menara 12</th>\n",
       "      <td></td>\n",
       "      <td></td>\n",
       "      <td></td>\n",
       "      <td></td>\n",
       "      <td></td>\n",
       "      <td></td>\n",
       "      <td></td>\n",
       "      <td></td>\n",
       "      <td></td>\n",
       "      <td></td>\n",
       "      <td>...</td>\n",
       "      <td></td>\n",
       "      <td></td>\n",
       "      <td></td>\n",
       "      <td></td>\n",
       "      <td></td>\n",
       "      <td></td>\n",
       "      <td></td>\n",
       "      <td></td>\n",
       "      <td>224.26</td>\n",
       "      <td></td>\n",
       "    </tr>\n",
       "    <tr>\n",
       "      <th>Menara 15</th>\n",
       "      <td></td>\n",
       "      <td></td>\n",
       "      <td></td>\n",
       "      <td></td>\n",
       "      <td></td>\n",
       "      <td></td>\n",
       "      <td></td>\n",
       "      <td></td>\n",
       "      <td></td>\n",
       "      <td></td>\n",
       "      <td>...</td>\n",
       "      <td></td>\n",
       "      <td></td>\n",
       "      <td></td>\n",
       "      <td>976.866667</td>\n",
       "      <td>2011.409048</td>\n",
       "      <td>1750.134286</td>\n",
       "      <td>3347.76</td>\n",
       "      <td>5207.784</td>\n",
       "      <td>2377.687429</td>\n",
       "      <td>272.988571</td>\n",
       "    </tr>\n",
       "    <tr>\n",
       "      <th>Oumnia A2 17</th>\n",
       "      <td></td>\n",
       "      <td></td>\n",
       "      <td></td>\n",
       "      <td></td>\n",
       "      <td></td>\n",
       "      <td></td>\n",
       "      <td></td>\n",
       "      <td></td>\n",
       "      <td></td>\n",
       "      <td></td>\n",
       "      <td>...</td>\n",
       "      <td>2202.58</td>\n",
       "      <td>2369.062857</td>\n",
       "      <td>2143.047143</td>\n",
       "      <td>2144.62</td>\n",
       "      <td>2934.072857</td>\n",
       "      <td>1541.657143</td>\n",
       "      <td>2038.472857</td>\n",
       "      <td>2726.947143</td>\n",
       "      <td>802.54</td>\n",
       "      <td>649.28</td>\n",
       "    </tr>\n",
       "    <tr>\n",
       "      <th>Palmeraie B9 A1</th>\n",
       "      <td></td>\n",
       "      <td></td>\n",
       "      <td></td>\n",
       "      <td></td>\n",
       "      <td></td>\n",
       "      <td></td>\n",
       "      <td></td>\n",
       "      <td></td>\n",
       "      <td></td>\n",
       "      <td></td>\n",
       "      <td>...</td>\n",
       "      <td></td>\n",
       "      <td></td>\n",
       "      <td></td>\n",
       "      <td></td>\n",
       "      <td></td>\n",
       "      <td></td>\n",
       "      <td></td>\n",
       "      <td>2302.133333</td>\n",
       "      <td>830.966667</td>\n",
       "      <td>1139.75</td>\n",
       "    </tr>\n",
       "  </tbody>\n",
       "</table>\n",
       "<p>7 rows × 33 columns</p>\n",
       "</div>"
      ],
      "text/plain": [
       "Month           2022-02  2022-03     2022-04      2022-05 2022-06  \\\n",
       "Apartment_code                                                      \n",
       "Alia 22                                            567.76  996.38   \n",
       "Alia 36                  1146.84       52.38      1333.31  1432.2   \n",
       "Alia 41           273.7  1256.96  784.064286  1531.315714  1051.4   \n",
       "Menara 12                                                           \n",
       "Menara 15                                                           \n",
       "Oumnia A2 17                                                        \n",
       "Palmeraie B9 A1                                                     \n",
       "\n",
       "Month                2022-07      2022-08      2022-09      2022-10  \\\n",
       "Apartment_code                                                        \n",
       "Alia 22          1065.464444  1338.385556      1324.18      1426.13   \n",
       "Alia 36               1406.5  1237.165714  1401.788571  1100.685714   \n",
       "Alia 41          1417.556667  2029.267333     1481.436      1464.46   \n",
       "Menara 12                                                             \n",
       "Menara 15                                                             \n",
       "Oumnia A2 17                                                          \n",
       "Palmeraie B9 A1                                                       \n",
       "\n",
       "Month                2022-11  ...      2024-01      2024-02      2024-03  \\\n",
       "Apartment_code                ...                                          \n",
       "Alia 22              1350.41  ...  1225.371667    1914.1775     782.3825   \n",
       "Alia 36              1282.36  ...  1217.415714  1166.284286   394.555714   \n",
       "Alia 41          1434.044286  ...      1172.89   1063.69381    934.30619   \n",
       "Menara 12                     ...                                          \n",
       "Menara 15                     ...                                          \n",
       "Oumnia A2 17                  ...      2202.58  2369.062857  2143.047143   \n",
       "Palmeraie B9 A1               ...                                          \n",
       "\n",
       "Month                2024-04      2024-05      2024-06      2024-07  \\\n",
       "Apartment_code                                                        \n",
       "Alia 22          1448.265143  2821.821524   650.925333  1704.261333   \n",
       "Alia 36               855.87  1254.883333   387.736667                \n",
       "Alia 41              1389.91  1403.330303   844.986364      897.818   \n",
       "Menara 12                                                             \n",
       "Menara 15         976.866667  2011.409048  1750.134286      3347.76   \n",
       "Oumnia A2 17         2144.62  2934.072857  1541.657143  2038.472857   \n",
       "Palmeraie B9 A1                                                       \n",
       "\n",
       "Month                2024-08      2024-09     2024-10  \n",
       "Apartment_code                                         \n",
       "Alia 22          2197.396667                           \n",
       "Alia 36          1391.640909   413.959091              \n",
       "Alia 41             1102.762        368.6              \n",
       "Menara 12                          224.26              \n",
       "Menara 15           5207.784  2377.687429  272.988571  \n",
       "Oumnia A2 17     2726.947143       802.54      649.28  \n",
       "Palmeraie B9 A1  2302.133333   830.966667     1139.75  \n",
       "\n",
       "[7 rows x 33 columns]"
      ]
     },
     "execution_count": 52,
     "metadata": {},
     "output_type": "execute_result"
    }
   ],
   "source": [
    "revenue_pivot.replace(0, '')"
   ]
  },
  {
   "cell_type": "code",
   "execution_count": 53,
   "id": "9de34727",
   "metadata": {},
   "outputs": [],
   "source": [
    "df2 = revenue_pivot.transpose().reset_index()"
   ]
  },
  {
   "cell_type": "code",
   "execution_count": 54,
   "id": "53f37be3",
   "metadata": {},
   "outputs": [
    {
     "data": {
      "image/png": "[encoded data removed]",
      "text/plain": [
       "<Figure size 1000x600 with 1 Axes>"
      ]
     },
     "metadata": {},
     "output_type": "display_data"
    }
   ],
   "source": [
    "columns = ['Alia 22', 'Alia 36', 'Alia 41', 'Menara 12', 'Menara 15', 'Oumnia A2 17', 'Palmeraie B9 A1']\n",
    "plt.figure(figsize=(10, 6))\n",
    "for col in columns:\n",
    "    plt.plot(df2[df2[col] != 0][col], label=col, marker='+');\n",
    "\n",
    "plt.xticks(ticks=range(len(df2)), labels=df2['Month'].values, rotation=45);\n",
    "plt.xlabel('Month');  # Replace with your appropriate x-axis label\n",
    "plt.ylabel('Monthly Revenue');  # Replace with your appropriate y-axis label\n",
    "plt.title('Overview');  # Replace with your title\n",
    "plt.legend();\n"
   ]
  },
  {
   "cell_type": "code",
   "execution_count": 55,
   "id": "6054fbc3",
   "metadata": {},
   "outputs": [
    {
     "data": {
      "image/png": "[encoded data removed]",
      "text/plain": [
       "<Figure size 1000x600 with 1 Axes>"
      ]
     },
     "metadata": {},
     "output_type": "display_data"
    }
   ],
   "source": [
    "columns_to_plot = ['Alia 36', 'Alia 41','Alia 22', 'Menara 12', 'Menara 15', 'Oumnia A2 17', 'Palmeraie B9 A1']\n",
    "\n",
    "plt.figure(figsize=(10, 6))\n",
    "# Create a stacked line chart\n",
    "plt.stackplot(df2.index, df2[columns_to_plot].T, labels=columns_to_plot)\n",
    "\n",
    "# Add title and labels\n",
    "plt.xticks(ticks=range(len(df2)), labels=df2['Month'].values, rotation=45);\n",
    "plt.title('Total Revenue')\n",
    "plt.xlabel('Months')\n",
    "plt.ylabel('Revenue')\n",
    "\n",
    "# Show legend\n",
    "plt.legend(loc='upper left')\n",
    "\n",
    "# Display the plot\n",
    "plt.show()"
   ]
  },
  {
   "cell_type": "markdown",
   "id": "58f4af5d",
   "metadata": {},
   "source": [
    "### Colored pivot"
   ]
  },
  {
   "cell_type": "code",
   "execution_count": 87,
   "id": "d36bbe80",
   "metadata": {},
   "outputs": [],
   "source": [
    "year_2022 = ['2022-02', '2022-03', '2022-04', '2022-05', '2022-06', '2022-07',\n",
    "             '2022-08', '2022-09', '2022-10', '2022-11', '2022-12']\n",
    "year_2023 = ['2023-01', '2023-02', '2023-03', '2023-04', '2023-05', '2023-06', \n",
    "             '2023-07', '2023-08', '2023-09', '2023-10', '2023-11', '2023-12']\n",
    "year_2024 = ['2024-01', '2024-02', '2024-03', '2024-04', '2024-05', '2024-06', \n",
    "             '2024-07', '2024-08', '2024-09', '2024-10']"
   ]
  },
  {
   "cell_type": "code",
   "execution_count": 93,
   "id": "145b124b",
   "metadata": {},
   "outputs": [
    {
     "name": "stderr",
     "output_type": "stream",
     "text": [
      "/var/folders/62/w1m4n5z17wbd9l418k5vd8140000gn/T/ipykernel_33309/1748345884.py:2: SettingWithCopyWarning: \n",
      "A value is trying to be set on a copy of a slice from a DataFrame.\n",
      "Try using .loc[row_indexer,col_indexer] = value instead\n",
      "\n",
      "See the caveats in the documentation: https://pandas.pydata.org/pandas-docs/stable/user_guide/indexing.html#returning-a-view-versus-a-copy\n",
      "  rev_yearly.loc[:, 'full_year'] = rev_yearly.sum(axis=1)\n"
     ]
    },
    {
     "data": {
      "text/html": [
       "<div>\n",
       "<style scoped>\n",
       "    .dataframe tbody tr th:only-of-type {\n",
       "        vertical-align: middle;\n",
       "    }\n",
       "\n",
       "    .dataframe tbody tr th {\n",
       "        vertical-align: top;\n",
       "    }\n",
       "\n",
       "    .dataframe thead th {\n",
       "        text-align: right;\n",
       "    }\n",
       "</style>\n",
       "<table border=\"1\" class=\"dataframe\">\n",
       "  <thead>\n",
       "    <tr style=\"text-align: right;\">\n",
       "      <th>Month</th>\n",
       "      <th>2024-01</th>\n",
       "      <th>2024-02</th>\n",
       "      <th>2024-03</th>\n",
       "      <th>2024-04</th>\n",
       "      <th>2024-05</th>\n",
       "      <th>2024-06</th>\n",
       "      <th>2024-07</th>\n",
       "      <th>2024-08</th>\n",
       "      <th>2024-09</th>\n",
       "      <th>2024-10</th>\n",
       "      <th>full_year</th>\n",
       "    </tr>\n",
       "    <tr>\n",
       "      <th>Apartment_code</th>\n",
       "      <th></th>\n",
       "      <th></th>\n",
       "      <th></th>\n",
       "      <th></th>\n",
       "      <th></th>\n",
       "      <th></th>\n",
       "      <th></th>\n",
       "      <th></th>\n",
       "      <th></th>\n",
       "      <th></th>\n",
       "      <th></th>\n",
       "    </tr>\n",
       "  </thead>\n",
       "  <tbody>\n",
       "    <tr>\n",
       "      <th>Alia 22</th>\n",
       "      <td>1225.371667</td>\n",
       "      <td>1914.177500</td>\n",
       "      <td>782.382500</td>\n",
       "      <td>1448.265143</td>\n",
       "      <td>2821.821524</td>\n",
       "      <td>650.925333</td>\n",
       "      <td>1704.261333</td>\n",
       "      <td>2197.396667</td>\n",
       "      <td>0.000000</td>\n",
       "      <td>0.000000</td>\n",
       "      <td>12744.601667</td>\n",
       "    </tr>\n",
       "    <tr>\n",
       "      <th>Alia 36</th>\n",
       "      <td>1217.415714</td>\n",
       "      <td>1166.284286</td>\n",
       "      <td>394.555714</td>\n",
       "      <td>855.870000</td>\n",
       "      <td>1254.883333</td>\n",
       "      <td>387.736667</td>\n",
       "      <td>0.000000</td>\n",
       "      <td>1391.640909</td>\n",
       "      <td>413.959091</td>\n",
       "      <td>0.000000</td>\n",
       "      <td>7082.345714</td>\n",
       "    </tr>\n",
       "    <tr>\n",
       "      <th>Alia 41</th>\n",
       "      <td>1172.890000</td>\n",
       "      <td>1063.693810</td>\n",
       "      <td>934.306190</td>\n",
       "      <td>1389.910000</td>\n",
       "      <td>1403.330303</td>\n",
       "      <td>844.986364</td>\n",
       "      <td>897.818000</td>\n",
       "      <td>1102.762000</td>\n",
       "      <td>368.600000</td>\n",
       "      <td>0.000000</td>\n",
       "      <td>9178.296667</td>\n",
       "    </tr>\n",
       "    <tr>\n",
       "      <th>Menara 12</th>\n",
       "      <td>0.000000</td>\n",
       "      <td>0.000000</td>\n",
       "      <td>0.000000</td>\n",
       "      <td>0.000000</td>\n",
       "      <td>0.000000</td>\n",
       "      <td>0.000000</td>\n",
       "      <td>0.000000</td>\n",
       "      <td>0.000000</td>\n",
       "      <td>224.260000</td>\n",
       "      <td>0.000000</td>\n",
       "      <td>224.260000</td>\n",
       "    </tr>\n",
       "    <tr>\n",
       "      <th>Menara 15</th>\n",
       "      <td>0.000000</td>\n",
       "      <td>0.000000</td>\n",
       "      <td>0.000000</td>\n",
       "      <td>976.866667</td>\n",
       "      <td>2011.409048</td>\n",
       "      <td>1750.134286</td>\n",
       "      <td>3347.760000</td>\n",
       "      <td>5207.784000</td>\n",
       "      <td>2377.687429</td>\n",
       "      <td>272.988571</td>\n",
       "      <td>15944.630000</td>\n",
       "    </tr>\n",
       "    <tr>\n",
       "      <th>Oumnia A2 17</th>\n",
       "      <td>2202.580000</td>\n",
       "      <td>2369.062857</td>\n",
       "      <td>2143.047143</td>\n",
       "      <td>2144.620000</td>\n",
       "      <td>2934.072857</td>\n",
       "      <td>1541.657143</td>\n",
       "      <td>2038.472857</td>\n",
       "      <td>2726.947143</td>\n",
       "      <td>802.540000</td>\n",
       "      <td>649.280000</td>\n",
       "      <td>19552.280000</td>\n",
       "    </tr>\n",
       "    <tr>\n",
       "      <th>Palmeraie B9 A1</th>\n",
       "      <td>0.000000</td>\n",
       "      <td>0.000000</td>\n",
       "      <td>0.000000</td>\n",
       "      <td>0.000000</td>\n",
       "      <td>0.000000</td>\n",
       "      <td>0.000000</td>\n",
       "      <td>0.000000</td>\n",
       "      <td>2302.133333</td>\n",
       "      <td>830.966667</td>\n",
       "      <td>1139.750000</td>\n",
       "      <td>4272.850000</td>\n",
       "    </tr>\n",
       "  </tbody>\n",
       "</table>\n",
       "</div>"
      ],
      "text/plain": [
       "Month                2024-01      2024-02      2024-03      2024-04  \\\n",
       "Apartment_code                                                        \n",
       "Alia 22          1225.371667  1914.177500   782.382500  1448.265143   \n",
       "Alia 36          1217.415714  1166.284286   394.555714   855.870000   \n",
       "Alia 41          1172.890000  1063.693810   934.306190  1389.910000   \n",
       "Menara 12           0.000000     0.000000     0.000000     0.000000   \n",
       "Menara 15           0.000000     0.000000     0.000000   976.866667   \n",
       "Oumnia A2 17     2202.580000  2369.062857  2143.047143  2144.620000   \n",
       "Palmeraie B9 A1     0.000000     0.000000     0.000000     0.000000   \n",
       "\n",
       "Month                2024-05      2024-06      2024-07      2024-08  \\\n",
       "Apartment_code                                                        \n",
       "Alia 22          2821.821524   650.925333  1704.261333  2197.396667   \n",
       "Alia 36          1254.883333   387.736667     0.000000  1391.640909   \n",
       "Alia 41          1403.330303   844.986364   897.818000  1102.762000   \n",
       "Menara 12           0.000000     0.000000     0.000000     0.000000   \n",
       "Menara 15        2011.409048  1750.134286  3347.760000  5207.784000   \n",
       "Oumnia A2 17     2934.072857  1541.657143  2038.472857  2726.947143   \n",
       "Palmeraie B9 A1     0.000000     0.000000     0.000000  2302.133333   \n",
       "\n",
       "Month                2024-09      2024-10     full_year  \n",
       "Apartment_code                                           \n",
       "Alia 22             0.000000     0.000000  12744.601667  \n",
       "Alia 36           413.959091     0.000000   7082.345714  \n",
       "Alia 41           368.600000     0.000000   9178.296667  \n",
       "Menara 12         224.260000     0.000000    224.260000  \n",
       "Menara 15        2377.687429   272.988571  15944.630000  \n",
       "Oumnia A2 17      802.540000   649.280000  19552.280000  \n",
       "Palmeraie B9 A1   830.966667  1139.750000   4272.850000  "
      ]
     },
     "execution_count": 93,
     "metadata": {},
     "output_type": "execute_result"
    }
   ],
   "source": [
    "rev_yearly=revenue_pivot[year_2024]\n",
    "rev_yearly.loc[:, 'full_year'] = rev_yearly.sum(axis=1)\n",
    "rev_yearly"
   ]
  },
  {
   "cell_type": "code",
   "execution_count": 85,
   "id": "7a948d9b",
   "metadata": {},
   "outputs": [],
   "source": [
    "means_=[]\n",
    "for name in revenue_pivot.index:\n",
    "    means_.append({\n",
    "        'Apartment_Code' : name, \n",
    "        'Mean' : revenue_pivot.loc[name][revenue_pivot.loc[name] != 0].mean()       \n",
    "    })\n",
    "means_ = pd.DataFrame(means_) \n",
    "means_.set_index('Apartment_Code', inplace = True)"
   ]
  },
  {
   "cell_type": "code",
   "execution_count": 74,
   "id": "4dfa3457",
   "metadata": {},
   "outputs": [],
   "source": [
    "def color_cells(val, mean):\n",
    "    \"\"\"Return the color based on the value compared to the average\"\"\"\n",
    "    if val < 0.8 * avg:\n",
    "        return 'background-color: orange'\n",
    "    elif 0.8 * avg <= val <= 1.2 * avg:\n",
    "        return 'background-color: yellow'\n",
    "    else:\n",
    "        return 'background-color: green'\n"
   ]
  },
  {
   "cell_type": "code",
   "execution_count": 94,
   "id": "19b12b90",
   "metadata": {},
   "outputs": [],
   "source": [
    "# Apply the function to each cell in the DataFrame (ignoring 'Early Rev' column for this operation)\n",
    "styled_df = revenue_pivot.style.applymap(lambda x: color_cells(x, df.mean().mean()), subset=df.columns[:-1])"
   ]
  },
  {
   "cell_type": "code",
   "execution_count": 95,
   "id": "59b91a13",
   "metadata": {},
   "outputs": [
    {
     "ename": "KeyError",
     "evalue": "\"None of [Index(['Confirmation_Code', 'Status', 'Start_Date', 'End_Date',\\n       'Number_of_Nights', 'Reserved', 'Revenue', 'Apartment_code'],\\n      dtype='object')] are in the [columns]\"",
     "output_type": "error",
     "traceback": [
      "\u001b[0;31m---------------------------------------------------------------------------\u001b[0m",
      "\u001b[0;31mKeyError\u001b[0m                                  Traceback (most recent call last)",
      "File \u001b[0;32m~/.pyenv/versions/3.10.6/envs/lewagon/lib/python3.10/site-packages/IPython/core/formatters.py:343\u001b[0m, in \u001b[0;36mBaseFormatter.__call__\u001b[0;34m(self, obj)\u001b[0m\n\u001b[1;32m    341\u001b[0m     method \u001b[38;5;241m=\u001b[39m get_real_method(obj, \u001b[38;5;28mself\u001b[39m\u001b[38;5;241m.\u001b[39mprint_method)\n\u001b[1;32m    342\u001b[0m     \u001b[38;5;28;01mif\u001b[39;00m method \u001b[38;5;129;01mis\u001b[39;00m \u001b[38;5;129;01mnot\u001b[39;00m \u001b[38;5;28;01mNone\u001b[39;00m:\n\u001b[0;32m--> 343\u001b[0m         \u001b[38;5;28;01mreturn\u001b[39;00m \u001b[43mmethod\u001b[49m\u001b[43m(\u001b[49m\u001b[43m)\u001b[49m\n\u001b[1;32m    344\u001b[0m     \u001b[38;5;28;01mreturn\u001b[39;00m \u001b[38;5;28;01mNone\u001b[39;00m\n\u001b[1;32m    345\u001b[0m \u001b[38;5;28;01melse\u001b[39;00m:\n",
      "File \u001b[0;32m~/.pyenv/versions/3.10.6/envs/lewagon/lib/python3.10/site-packages/pandas/io/formats/style.py:272\u001b[0m, in \u001b[0;36mStyler._repr_html_\u001b[0;34m(self)\u001b[0m\n\u001b[1;32m    267\u001b[0m \u001b[38;5;124;03m\"\"\"\u001b[39;00m\n\u001b[1;32m    268\u001b[0m \u001b[38;5;124;03mHooks into Jupyter notebook rich display system, which calls _repr_html_ by\u001b[39;00m\n\u001b[1;32m    269\u001b[0m \u001b[38;5;124;03mdefault if an object is returned at the end of a cell.\u001b[39;00m\n\u001b[1;32m    270\u001b[0m \u001b[38;5;124;03m\"\"\"\u001b[39;00m\n\u001b[1;32m    271\u001b[0m \u001b[38;5;28;01mif\u001b[39;00m get_option(\u001b[38;5;124m\"\u001b[39m\u001b[38;5;124mstyler.render.repr\u001b[39m\u001b[38;5;124m\"\u001b[39m) \u001b[38;5;241m==\u001b[39m \u001b[38;5;124m\"\u001b[39m\u001b[38;5;124mhtml\u001b[39m\u001b[38;5;124m\"\u001b[39m:\n\u001b[0;32m--> 272\u001b[0m     \u001b[38;5;28;01mreturn\u001b[39;00m \u001b[38;5;28;43mself\u001b[39;49m\u001b[38;5;241;43m.\u001b[39;49m\u001b[43mto_html\u001b[49m\u001b[43m(\u001b[49m\u001b[43m)\u001b[49m\n\u001b[1;32m    273\u001b[0m \u001b[38;5;28;01mreturn\u001b[39;00m \u001b[38;5;28;01mNone\u001b[39;00m\n",
      "File \u001b[0;32m~/.pyenv/versions/3.10.6/envs/lewagon/lib/python3.10/site-packages/pandas/io/formats/style.py:1179\u001b[0m, in \u001b[0;36mStyler.to_html\u001b[0;34m(self, buf, table_uuid, table_attributes, sparse_index, sparse_columns, bold_headers, caption, max_rows, max_columns, encoding, doctype_html, exclude_styles, **kwargs)\u001b[0m\n\u001b[1;32m   1176\u001b[0m     obj\u001b[38;5;241m.\u001b[39mset_caption(caption)\n\u001b[1;32m   1178\u001b[0m \u001b[38;5;66;03m# Build HTML string..\u001b[39;00m\n\u001b[0;32m-> 1179\u001b[0m html \u001b[38;5;241m=\u001b[39m \u001b[43mobj\u001b[49m\u001b[38;5;241;43m.\u001b[39;49m\u001b[43m_render_html\u001b[49m\u001b[43m(\u001b[49m\n\u001b[1;32m   1180\u001b[0m \u001b[43m    \u001b[49m\u001b[43msparse_index\u001b[49m\u001b[38;5;241;43m=\u001b[39;49m\u001b[43msparse_index\u001b[49m\u001b[43m,\u001b[49m\n\u001b[1;32m   1181\u001b[0m \u001b[43m    \u001b[49m\u001b[43msparse_columns\u001b[49m\u001b[38;5;241;43m=\u001b[39;49m\u001b[43msparse_columns\u001b[49m\u001b[43m,\u001b[49m\n\u001b[1;32m   1182\u001b[0m \u001b[43m    \u001b[49m\u001b[43mmax_rows\u001b[49m\u001b[38;5;241;43m=\u001b[39;49m\u001b[43mmax_rows\u001b[49m\u001b[43m,\u001b[49m\n\u001b[1;32m   1183\u001b[0m \u001b[43m    \u001b[49m\u001b[43mmax_cols\u001b[49m\u001b[38;5;241;43m=\u001b[39;49m\u001b[43mmax_columns\u001b[49m\u001b[43m,\u001b[49m\n\u001b[1;32m   1184\u001b[0m \u001b[43m    \u001b[49m\u001b[43mexclude_styles\u001b[49m\u001b[38;5;241;43m=\u001b[39;49m\u001b[43mexclude_styles\u001b[49m\u001b[43m,\u001b[49m\n\u001b[1;32m   1185\u001b[0m \u001b[43m    \u001b[49m\u001b[43mencoding\u001b[49m\u001b[38;5;241;43m=\u001b[39;49m\u001b[43mencoding\u001b[49m\u001b[43m \u001b[49m\u001b[38;5;129;43;01mor\u001b[39;49;00m\u001b[43m \u001b[49m\u001b[43mget_option\u001b[49m\u001b[43m(\u001b[49m\u001b[38;5;124;43m\"\u001b[39;49m\u001b[38;5;124;43mstyler.render.encoding\u001b[39;49m\u001b[38;5;124;43m\"\u001b[39;49m\u001b[43m)\u001b[49m\u001b[43m,\u001b[49m\n\u001b[1;32m   1186\u001b[0m \u001b[43m    \u001b[49m\u001b[43mdoctype_html\u001b[49m\u001b[38;5;241;43m=\u001b[39;49m\u001b[43mdoctype_html\u001b[49m\u001b[43m,\u001b[49m\n\u001b[1;32m   1187\u001b[0m \u001b[43m    \u001b[49m\u001b[38;5;241;43m*\u001b[39;49m\u001b[38;5;241;43m*\u001b[39;49m\u001b[43mkwargs\u001b[49m\u001b[43m,\u001b[49m\n\u001b[1;32m   1188\u001b[0m \u001b[43m\u001b[49m\u001b[43m)\u001b[49m\n\u001b[1;32m   1190\u001b[0m \u001b[38;5;28;01mreturn\u001b[39;00m save_to_buffer(\n\u001b[1;32m   1191\u001b[0m     html, buf\u001b[38;5;241m=\u001b[39mbuf, encoding\u001b[38;5;241m=\u001b[39m(encoding \u001b[38;5;28;01mif\u001b[39;00m buf \u001b[38;5;129;01mis\u001b[39;00m \u001b[38;5;129;01mnot\u001b[39;00m \u001b[38;5;28;01mNone\u001b[39;00m \u001b[38;5;28;01melse\u001b[39;00m \u001b[38;5;28;01mNone\u001b[39;00m)\n\u001b[1;32m   1192\u001b[0m )\n",
      "File \u001b[0;32m~/.pyenv/versions/3.10.6/envs/lewagon/lib/python3.10/site-packages/pandas/io/formats/style_render.py:162\u001b[0m, in \u001b[0;36mStylerRenderer._render_html\u001b[0;34m(self, sparse_index, sparse_columns, max_rows, max_cols, **kwargs)\u001b[0m\n\u001b[1;32m    150\u001b[0m \u001b[38;5;28;01mdef\u001b[39;00m \u001b[38;5;21m_render_html\u001b[39m(\n\u001b[1;32m    151\u001b[0m     \u001b[38;5;28mself\u001b[39m,\n\u001b[1;32m    152\u001b[0m     sparse_index: \u001b[38;5;28mbool\u001b[39m,\n\u001b[0;32m   (...)\u001b[0m\n\u001b[1;32m    156\u001b[0m     \u001b[38;5;241m*\u001b[39m\u001b[38;5;241m*\u001b[39mkwargs,\n\u001b[1;32m    157\u001b[0m ) \u001b[38;5;241m-\u001b[39m\u001b[38;5;241m>\u001b[39m \u001b[38;5;28mstr\u001b[39m:\n\u001b[1;32m    158\u001b[0m     \u001b[38;5;124;03m\"\"\"\u001b[39;00m\n\u001b[1;32m    159\u001b[0m \u001b[38;5;124;03m    Renders the ``Styler`` including all applied styles to HTML.\u001b[39;00m\n\u001b[1;32m    160\u001b[0m \u001b[38;5;124;03m    Generates a dict with necessary kwargs passed to jinja2 template.\u001b[39;00m\n\u001b[1;32m    161\u001b[0m \u001b[38;5;124;03m    \"\"\"\u001b[39;00m\n\u001b[0;32m--> 162\u001b[0m     \u001b[38;5;28;43mself\u001b[39;49m\u001b[38;5;241;43m.\u001b[39;49m\u001b[43m_compute\u001b[49m\u001b[43m(\u001b[49m\u001b[43m)\u001b[49m\n\u001b[1;32m    163\u001b[0m     \u001b[38;5;66;03m# TODO: namespace all the pandas keys\u001b[39;00m\n\u001b[1;32m    164\u001b[0m     d \u001b[38;5;241m=\u001b[39m \u001b[38;5;28mself\u001b[39m\u001b[38;5;241m.\u001b[39m_translate(sparse_index, sparse_columns, max_rows, max_cols)\n",
      "File \u001b[0;32m~/.pyenv/versions/3.10.6/envs/lewagon/lib/python3.10/site-packages/pandas/io/formats/style_render.py:205\u001b[0m, in \u001b[0;36mStylerRenderer._compute\u001b[0;34m(self)\u001b[0m\n\u001b[1;32m    203\u001b[0m r \u001b[38;5;241m=\u001b[39m \u001b[38;5;28mself\u001b[39m\n\u001b[1;32m    204\u001b[0m \u001b[38;5;28;01mfor\u001b[39;00m func, args, kwargs \u001b[38;5;129;01min\u001b[39;00m \u001b[38;5;28mself\u001b[39m\u001b[38;5;241m.\u001b[39m_todo:\n\u001b[0;32m--> 205\u001b[0m     r \u001b[38;5;241m=\u001b[39m \u001b[43mfunc\u001b[49m\u001b[43m(\u001b[49m\u001b[38;5;28;43mself\u001b[39;49m\u001b[43m)\u001b[49m\u001b[43m(\u001b[49m\u001b[38;5;241;43m*\u001b[39;49m\u001b[43margs\u001b[49m\u001b[43m,\u001b[49m\u001b[43m \u001b[49m\u001b[38;5;241;43m*\u001b[39;49m\u001b[38;5;241;43m*\u001b[39;49m\u001b[43mkwargs\u001b[49m\u001b[43m)\u001b[49m\n\u001b[1;32m    206\u001b[0m \u001b[38;5;28;01mreturn\u001b[39;00m r\n",
      "File \u001b[0;32m~/.pyenv/versions/3.10.6/envs/lewagon/lib/python3.10/site-packages/pandas/io/formats/style.py:1708\u001b[0m, in \u001b[0;36mStyler._applymap\u001b[0;34m(self, func, subset, **kwargs)\u001b[0m\n\u001b[1;32m   1706\u001b[0m     subset \u001b[38;5;241m=\u001b[39m IndexSlice[:]\n\u001b[1;32m   1707\u001b[0m subset \u001b[38;5;241m=\u001b[39m non_reducing_slice(subset)\n\u001b[0;32m-> 1708\u001b[0m result \u001b[38;5;241m=\u001b[39m \u001b[38;5;28;43mself\u001b[39;49m\u001b[38;5;241;43m.\u001b[39;49m\u001b[43mdata\u001b[49m\u001b[38;5;241;43m.\u001b[39;49m\u001b[43mloc\u001b[49m\u001b[43m[\u001b[49m\u001b[43msubset\u001b[49m\u001b[43m]\u001b[49m\u001b[38;5;241m.\u001b[39mapplymap(func)\n\u001b[1;32m   1709\u001b[0m \u001b[38;5;28mself\u001b[39m\u001b[38;5;241m.\u001b[39m_update_ctx(result)\n\u001b[1;32m   1710\u001b[0m \u001b[38;5;28;01mreturn\u001b[39;00m \u001b[38;5;28mself\u001b[39m\n",
      "File \u001b[0;32m~/.pyenv/versions/3.10.6/envs/lewagon/lib/python3.10/site-packages/pandas/core/indexing.py:961\u001b[0m, in \u001b[0;36m_LocationIndexer.__getitem__\u001b[0;34m(self, key)\u001b[0m\n\u001b[1;32m    959\u001b[0m     \u001b[38;5;28;01mif\u001b[39;00m \u001b[38;5;28mself\u001b[39m\u001b[38;5;241m.\u001b[39m_is_scalar_access(key):\n\u001b[1;32m    960\u001b[0m         \u001b[38;5;28;01mreturn\u001b[39;00m \u001b[38;5;28mself\u001b[39m\u001b[38;5;241m.\u001b[39mobj\u001b[38;5;241m.\u001b[39m_get_value(\u001b[38;5;241m*\u001b[39mkey, takeable\u001b[38;5;241m=\u001b[39m\u001b[38;5;28mself\u001b[39m\u001b[38;5;241m.\u001b[39m_takeable)\n\u001b[0;32m--> 961\u001b[0m     \u001b[38;5;28;01mreturn\u001b[39;00m \u001b[38;5;28;43mself\u001b[39;49m\u001b[38;5;241;43m.\u001b[39;49m\u001b[43m_getitem_tuple\u001b[49m\u001b[43m(\u001b[49m\u001b[43mkey\u001b[49m\u001b[43m)\u001b[49m\n\u001b[1;32m    962\u001b[0m \u001b[38;5;28;01melse\u001b[39;00m:\n\u001b[1;32m    963\u001b[0m     \u001b[38;5;66;03m# we by definition only have the 0th axis\u001b[39;00m\n\u001b[1;32m    964\u001b[0m     axis \u001b[38;5;241m=\u001b[39m \u001b[38;5;28mself\u001b[39m\u001b[38;5;241m.\u001b[39maxis \u001b[38;5;129;01mor\u001b[39;00m \u001b[38;5;241m0\u001b[39m\n",
      "File \u001b[0;32m~/.pyenv/versions/3.10.6/envs/lewagon/lib/python3.10/site-packages/pandas/core/indexing.py:1149\u001b[0m, in \u001b[0;36m_LocIndexer._getitem_tuple\u001b[0;34m(self, tup)\u001b[0m\n\u001b[1;32m   1146\u001b[0m \u001b[38;5;28;01mif\u001b[39;00m \u001b[38;5;28mself\u001b[39m\u001b[38;5;241m.\u001b[39m_multi_take_opportunity(tup):\n\u001b[1;32m   1147\u001b[0m     \u001b[38;5;28;01mreturn\u001b[39;00m \u001b[38;5;28mself\u001b[39m\u001b[38;5;241m.\u001b[39m_multi_take(tup)\n\u001b[0;32m-> 1149\u001b[0m \u001b[38;5;28;01mreturn\u001b[39;00m \u001b[38;5;28;43mself\u001b[39;49m\u001b[38;5;241;43m.\u001b[39;49m\u001b[43m_getitem_tuple_same_dim\u001b[49m\u001b[43m(\u001b[49m\u001b[43mtup\u001b[49m\u001b[43m)\u001b[49m\n",
      "File \u001b[0;32m~/.pyenv/versions/3.10.6/envs/lewagon/lib/python3.10/site-packages/pandas/core/indexing.py:827\u001b[0m, in \u001b[0;36m_LocationIndexer._getitem_tuple_same_dim\u001b[0;34m(self, tup)\u001b[0m\n\u001b[1;32m    824\u001b[0m \u001b[38;5;28;01mif\u001b[39;00m com\u001b[38;5;241m.\u001b[39mis_null_slice(key):\n\u001b[1;32m    825\u001b[0m     \u001b[38;5;28;01mcontinue\u001b[39;00m\n\u001b[0;32m--> 827\u001b[0m retval \u001b[38;5;241m=\u001b[39m \u001b[38;5;28;43mgetattr\u001b[39;49m\u001b[43m(\u001b[49m\u001b[43mretval\u001b[49m\u001b[43m,\u001b[49m\u001b[43m \u001b[49m\u001b[38;5;28;43mself\u001b[39;49m\u001b[38;5;241;43m.\u001b[39;49m\u001b[43mname\u001b[49m\u001b[43m)\u001b[49m\u001b[38;5;241;43m.\u001b[39;49m\u001b[43m_getitem_axis\u001b[49m\u001b[43m(\u001b[49m\u001b[43mkey\u001b[49m\u001b[43m,\u001b[49m\u001b[43m \u001b[49m\u001b[43maxis\u001b[49m\u001b[38;5;241;43m=\u001b[39;49m\u001b[43mi\u001b[49m\u001b[43m)\u001b[49m\n\u001b[1;32m    828\u001b[0m \u001b[38;5;66;03m# We should never have retval.ndim < self.ndim, as that should\u001b[39;00m\n\u001b[1;32m    829\u001b[0m \u001b[38;5;66;03m#  be handled by the _getitem_lowerdim call above.\u001b[39;00m\n\u001b[1;32m    830\u001b[0m \u001b[38;5;28;01massert\u001b[39;00m retval\u001b[38;5;241m.\u001b[39mndim \u001b[38;5;241m==\u001b[39m \u001b[38;5;28mself\u001b[39m\u001b[38;5;241m.\u001b[39mndim\n",
      "File \u001b[0;32m~/.pyenv/versions/3.10.6/envs/lewagon/lib/python3.10/site-packages/pandas/core/indexing.py:1194\u001b[0m, in \u001b[0;36m_LocIndexer._getitem_axis\u001b[0;34m(self, key, axis)\u001b[0m\n\u001b[1;32m   1191\u001b[0m     \u001b[38;5;28;01mif\u001b[39;00m \u001b[38;5;28mhasattr\u001b[39m(key, \u001b[38;5;124m\"\u001b[39m\u001b[38;5;124mndim\u001b[39m\u001b[38;5;124m\"\u001b[39m) \u001b[38;5;129;01mand\u001b[39;00m key\u001b[38;5;241m.\u001b[39mndim \u001b[38;5;241m>\u001b[39m \u001b[38;5;241m1\u001b[39m:\n\u001b[1;32m   1192\u001b[0m         \u001b[38;5;28;01mraise\u001b[39;00m \u001b[38;5;167;01mValueError\u001b[39;00m(\u001b[38;5;124m\"\u001b[39m\u001b[38;5;124mCannot index with multidimensional key\u001b[39m\u001b[38;5;124m\"\u001b[39m)\n\u001b[0;32m-> 1194\u001b[0m     \u001b[38;5;28;01mreturn\u001b[39;00m \u001b[38;5;28;43mself\u001b[39;49m\u001b[38;5;241;43m.\u001b[39;49m\u001b[43m_getitem_iterable\u001b[49m\u001b[43m(\u001b[49m\u001b[43mkey\u001b[49m\u001b[43m,\u001b[49m\u001b[43m \u001b[49m\u001b[43maxis\u001b[49m\u001b[38;5;241;43m=\u001b[39;49m\u001b[43maxis\u001b[49m\u001b[43m)\u001b[49m\n\u001b[1;32m   1196\u001b[0m \u001b[38;5;66;03m# nested tuple slicing\u001b[39;00m\n\u001b[1;32m   1197\u001b[0m \u001b[38;5;28;01mif\u001b[39;00m is_nested_tuple(key, labels):\n",
      "File \u001b[0;32m~/.pyenv/versions/3.10.6/envs/lewagon/lib/python3.10/site-packages/pandas/core/indexing.py:1132\u001b[0m, in \u001b[0;36m_LocIndexer._getitem_iterable\u001b[0;34m(self, key, axis)\u001b[0m\n\u001b[1;32m   1129\u001b[0m \u001b[38;5;28mself\u001b[39m\u001b[38;5;241m.\u001b[39m_validate_key(key, axis)\n\u001b[1;32m   1131\u001b[0m \u001b[38;5;66;03m# A collection of keys\u001b[39;00m\n\u001b[0;32m-> 1132\u001b[0m keyarr, indexer \u001b[38;5;241m=\u001b[39m \u001b[38;5;28;43mself\u001b[39;49m\u001b[38;5;241;43m.\u001b[39;49m\u001b[43m_get_listlike_indexer\u001b[49m\u001b[43m(\u001b[49m\u001b[43mkey\u001b[49m\u001b[43m,\u001b[49m\u001b[43m \u001b[49m\u001b[43maxis\u001b[49m\u001b[43m)\u001b[49m\n\u001b[1;32m   1133\u001b[0m \u001b[38;5;28;01mreturn\u001b[39;00m \u001b[38;5;28mself\u001b[39m\u001b[38;5;241m.\u001b[39mobj\u001b[38;5;241m.\u001b[39m_reindex_with_indexers(\n\u001b[1;32m   1134\u001b[0m     {axis: [keyarr, indexer]}, copy\u001b[38;5;241m=\u001b[39m\u001b[38;5;28;01mTrue\u001b[39;00m, allow_dups\u001b[38;5;241m=\u001b[39m\u001b[38;5;28;01mTrue\u001b[39;00m\n\u001b[1;32m   1135\u001b[0m )\n",
      "File \u001b[0;32m~/.pyenv/versions/3.10.6/envs/lewagon/lib/python3.10/site-packages/pandas/core/indexing.py:1330\u001b[0m, in \u001b[0;36m_LocIndexer._get_listlike_indexer\u001b[0;34m(self, key, axis)\u001b[0m\n\u001b[1;32m   1327\u001b[0m ax \u001b[38;5;241m=\u001b[39m \u001b[38;5;28mself\u001b[39m\u001b[38;5;241m.\u001b[39mobj\u001b[38;5;241m.\u001b[39m_get_axis(axis)\n\u001b[1;32m   1328\u001b[0m axis_name \u001b[38;5;241m=\u001b[39m \u001b[38;5;28mself\u001b[39m\u001b[38;5;241m.\u001b[39mobj\u001b[38;5;241m.\u001b[39m_get_axis_name(axis)\n\u001b[0;32m-> 1330\u001b[0m keyarr, indexer \u001b[38;5;241m=\u001b[39m \u001b[43max\u001b[49m\u001b[38;5;241;43m.\u001b[39;49m\u001b[43m_get_indexer_strict\u001b[49m\u001b[43m(\u001b[49m\u001b[43mkey\u001b[49m\u001b[43m,\u001b[49m\u001b[43m \u001b[49m\u001b[43maxis_name\u001b[49m\u001b[43m)\u001b[49m\n\u001b[1;32m   1332\u001b[0m \u001b[38;5;28;01mreturn\u001b[39;00m keyarr, indexer\n",
      "File \u001b[0;32m~/.pyenv/versions/3.10.6/envs/lewagon/lib/python3.10/site-packages/pandas/core/indexes/base.py:5796\u001b[0m, in \u001b[0;36mIndex._get_indexer_strict\u001b[0;34m(self, key, axis_name)\u001b[0m\n\u001b[1;32m   5793\u001b[0m \u001b[38;5;28;01melse\u001b[39;00m:\n\u001b[1;32m   5794\u001b[0m     keyarr, indexer, new_indexer \u001b[38;5;241m=\u001b[39m \u001b[38;5;28mself\u001b[39m\u001b[38;5;241m.\u001b[39m_reindex_non_unique(keyarr)\n\u001b[0;32m-> 5796\u001b[0m \u001b[38;5;28;43mself\u001b[39;49m\u001b[38;5;241;43m.\u001b[39;49m\u001b[43m_raise_if_missing\u001b[49m\u001b[43m(\u001b[49m\u001b[43mkeyarr\u001b[49m\u001b[43m,\u001b[49m\u001b[43m \u001b[49m\u001b[43mindexer\u001b[49m\u001b[43m,\u001b[49m\u001b[43m \u001b[49m\u001b[43maxis_name\u001b[49m\u001b[43m)\u001b[49m\n\u001b[1;32m   5798\u001b[0m keyarr \u001b[38;5;241m=\u001b[39m \u001b[38;5;28mself\u001b[39m\u001b[38;5;241m.\u001b[39mtake(indexer)\n\u001b[1;32m   5799\u001b[0m \u001b[38;5;28;01mif\u001b[39;00m \u001b[38;5;28misinstance\u001b[39m(key, Index):\n\u001b[1;32m   5800\u001b[0m     \u001b[38;5;66;03m# GH 42790 - Preserve name from an Index\u001b[39;00m\n",
      "File \u001b[0;32m~/.pyenv/versions/3.10.6/envs/lewagon/lib/python3.10/site-packages/pandas/core/indexes/base.py:5856\u001b[0m, in \u001b[0;36mIndex._raise_if_missing\u001b[0;34m(self, key, indexer, axis_name)\u001b[0m\n\u001b[1;32m   5854\u001b[0m     \u001b[38;5;28;01mif\u001b[39;00m use_interval_msg:\n\u001b[1;32m   5855\u001b[0m         key \u001b[38;5;241m=\u001b[39m \u001b[38;5;28mlist\u001b[39m(key)\n\u001b[0;32m-> 5856\u001b[0m     \u001b[38;5;28;01mraise\u001b[39;00m \u001b[38;5;167;01mKeyError\u001b[39;00m(\u001b[38;5;124mf\u001b[39m\u001b[38;5;124m\"\u001b[39m\u001b[38;5;124mNone of [\u001b[39m\u001b[38;5;132;01m{\u001b[39;00mkey\u001b[38;5;132;01m}\u001b[39;00m\u001b[38;5;124m] are in the [\u001b[39m\u001b[38;5;132;01m{\u001b[39;00maxis_name\u001b[38;5;132;01m}\u001b[39;00m\u001b[38;5;124m]\u001b[39m\u001b[38;5;124m\"\u001b[39m)\n\u001b[1;32m   5858\u001b[0m not_found \u001b[38;5;241m=\u001b[39m \u001b[38;5;28mlist\u001b[39m(ensure_index(key)[missing_mask\u001b[38;5;241m.\u001b[39mnonzero()[\u001b[38;5;241m0\u001b[39m]]\u001b[38;5;241m.\u001b[39munique())\n\u001b[1;32m   5859\u001b[0m \u001b[38;5;28;01mraise\u001b[39;00m \u001b[38;5;167;01mKeyError\u001b[39;00m(\u001b[38;5;124mf\u001b[39m\u001b[38;5;124m\"\u001b[39m\u001b[38;5;132;01m{\u001b[39;00mnot_found\u001b[38;5;132;01m}\u001b[39;00m\u001b[38;5;124m not in index\u001b[39m\u001b[38;5;124m\"\u001b[39m)\n",
      "\u001b[0;31mKeyError\u001b[0m: \"None of [Index(['Confirmation_Code', 'Status', 'Start_Date', 'End_Date',\\n       'Number_of_Nights', 'Reserved', 'Revenue', 'Apartment_code'],\\n      dtype='object')] are in the [columns]\""
     ]
    },
    {
     "data": {
      "text/plain": [
       "<pandas.io.formats.style.Styler at 0x308b2e620>"
      ]
     },
     "execution_count": 95,
     "metadata": {},
     "output_type": "execute_result"
    }
   ],
   "source": [
    "styled_df"
   ]
  },
  {
   "cell_type": "code",
   "execution_count": null,
   "id": "9d9b0bf9",
   "metadata": {},
   "outputs": [],
   "source": []
  }
 ],
 "metadata": {
  "kernelspec": {
   "display_name": "Python 3 (ipykernel)",
   "language": "python",
   "name": "python3"
  },
  "language_info": {
   "codemirror_mode": {
    "name": "ipython",
    "version": 3
   },
   "file_extension": ".py",
   "mimetype": "text/x-python",
   "name": "python",
   "nbconvert_exporter": "python",
   "pygments_lexer": "ipython3",
   "version": "3.10.6"
  },
  "toc": {
   "base_numbering": 1,
   "nav_menu": {},
   "number_sections": true,
   "sideBar": true,
   "skip_h1_title": false,
   "title_cell": "Table of Contents",
   "title_sidebar": "Contents",
   "toc_cell": false,
   "toc_position": {},
   "toc_section_display": true,
   "toc_window_display": false
  }
 },
 "nbformat": 4,
 "nbformat_minor": 5
}
