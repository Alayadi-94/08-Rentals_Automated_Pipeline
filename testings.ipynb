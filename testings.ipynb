{
 "cells": [
  {
   "cell_type": "markdown",
   "id": "7f2b120f",
   "metadata": {},
   "source": [
    "# Formating Airbnb extracts"
   ]
  },
  {
   "cell_type": "code",
   "execution_count": 1,
   "id": "195ed86f",
   "metadata": {},
   "outputs": [],
   "source": [
    "import csv\n",
    "import pandas as pd\n",
    "import numpy as np\n",
    "\n",
    "import calendar\n",
    "\n",
    "import matplotlib.pyplot as plt\n",
    "from matplotlib.colors import ListedColormap, BoundaryNorm\n",
    "from matplotlib.patches import Patch\n",
    "\n",
    "import seaborn as sns\n"
   ]
  },
  {
   "cell_type": "markdown",
   "id": "f9ca21ce",
   "metadata": {},
   "source": [
    "## Formating functions"
   ]
  },
  {
   "cell_type": "markdown",
   "id": "cb766bda",
   "metadata": {
    "heading_collapsed": true
   },
   "source": [
    "### Importing the historical data"
   ]
  },
  {
   "cell_type": "code",
   "execution_count": 2,
   "id": "77f40784",
   "metadata": {
    "hidden": true
   },
   "outputs": [],
   "source": [
    "\"\"\"Importing the an excel version of the historic data\"\"\"\n",
    "file = \"data/historic_data_copy.xls\"\n",
    "df = pd.read_excel(file)"
   ]
  },
  {
   "cell_type": "markdown",
   "id": "4b15f914",
   "metadata": {
    "heading_collapsed": true
   },
   "source": [
    "### Formatting the header & dates"
   ]
  },
  {
   "cell_type": "code",
   "execution_count": 3,
   "id": "a764cd19",
   "metadata": {
    "hidden": true
   },
   "outputs": [],
   "source": [
    "def format_header(df):\n",
    "    \"\"\"Translation of the columns name in english\"\"\"\n",
    "    columns_en = [\n",
    "        \"Confirmation_Code\",\n",
    "        \"Status\",\n",
    "        \"Guest\",\n",
    "        \"Contact\",\n",
    "        \"Adults\",\n",
    "        \"Children\",\n",
    "        \"Infants\",\n",
    "        \"Start_Date\",\n",
    "        \"End_Date\",\n",
    "        \"Number_of_Nights\",\n",
    "        \"Reserved\",\n",
    "        \"Advertisement\",\n",
    "        \"Revenue\"\n",
    "    ]\n",
    "\n",
    "    \"\"\"Renaming teh columns\"\"\"\n",
    "    df.columns = columns_en\n",
    "    \n",
    "    return df\n",
    "    "
   ]
  },
  {
   "cell_type": "code",
   "execution_count": 4,
   "id": "1794c26b",
   "metadata": {
    "hidden": true
   },
   "outputs": [],
   "source": [
    "def format_date(df):\n",
    "    \"\"\"Changing dates to datetime format\"\"\"\n",
    "    df[['Start_Date', 'End_Date', 'Reserved']] = df[['Start_Date', 'End_Date', 'Reserved']].apply(pd.to_datetime)\n",
    "    \n",
    "    return df"
   ]
  },
  {
   "cell_type": "markdown",
   "id": "2abf5d7f",
   "metadata": {
    "heading_collapsed": true
   },
   "source": [
    "### Formating the revenue column"
   ]
  },
  {
   "cell_type": "code",
   "execution_count": 5,
   "id": "5f10efd4",
   "metadata": {
    "hidden": true
   },
   "outputs": [],
   "source": [
    "def revenue_formating(df):    \n",
    "    \"\"\"Removing the 4 last characters in the revenue string\"\"\"\n",
    "    df['Revenue']=df['Revenue'].str[:-5]\n",
    "\n",
    "    \"\"\"Removing ',ÄØ' in df['Revenue']\"\"\"\n",
    "    modified_rev = df[df['Revenue'].str.contains('ÄØ')]['Revenue'].str[0] +\\\n",
    "                    df[df['Revenue'].str.contains('ÄØ')]['Revenue'].str[4:]\n",
    "    for i in modified_rev.index:\n",
    "        df.iloc[i, 12] = modified_rev[i]\n",
    "\n",
    "    \"\"\"Converting the revenue into float\"\"\"\n",
    "    df['Revenue'] = df['Revenue'].str.replace(',', '.').astype(float)\n",
    "    \n",
    "    return df"
   ]
  },
  {
   "cell_type": "markdown",
   "id": "79113bf6",
   "metadata": {
    "heading_collapsed": true
   },
   "source": [
    "### Adding Owner column"
   ]
  },
  {
   "cell_type": "code",
   "execution_count": 6,
   "id": "69f2a827",
   "metadata": {
    "hidden": true
   },
   "outputs": [],
   "source": [
    "def add_owner(df):\n",
    "    \"\"\"Importing the apartment matiching index \"\"\"\n",
    "    apartments = \"data/apartments.xls\"\n",
    "    match_df = pd.read_excel(apartments)\n",
    "\n",
    "    df = pd.merge(df, match_df[['Apartment Name', 'Ad name 1', 'Owner']], how=\"left\", left_on='Advertisement', right_on= 'Ad name 1')\n",
    "    df = pd.merge(df, match_df[['Apartment Name', 'Ad name 2', 'Owner']], how=\"left\", left_on='Advertisement', right_on= 'Ad name 2')\n",
    "\n",
    "    df['Owner'] = df['Owner_x'].combine_first(df['Owner_y'])\n",
    "\n",
    "    df.drop(columns=['Ad name 1', 'Ad name 2', 'Owner_x', 'Owner_y'], inplace=True)\n",
    "\n",
    "    modified_code = df[df['Apartment Name_y'].notnull()]['Apartment Name_y']\n",
    "    for i in modified_code.index:\n",
    "        df.iloc[i, 13] = modified_code[i]\n",
    "\n",
    "    df = df.rename(columns= {'Apartment Name_x':'Apartment_code'})\n",
    "    df.drop(columns=['Apartment Name_y'], inplace=True)\n",
    "    \n",
    "    return df"
   ]
  },
  {
   "cell_type": "markdown",
   "id": "4412cb03",
   "metadata": {
    "heading_collapsed": true
   },
   "source": [
    "### Status formating"
   ]
  },
  {
   "cell_type": "code",
   "execution_count": 7,
   "id": "de8d0bc7",
   "metadata": {
    "hidden": true
   },
   "outputs": [],
   "source": [
    "def status_formating(df):\n",
    "    translation_map = {\n",
    "        'Ancien voyageur': 'Past traveler',\n",
    "        'Annul√©e par le voyageur': 'Cancelled by the traveler',\n",
    "        'Annul√©e par Airbnb': 'Cancelled by Airbnb',\n",
    "        'Modification de voyage envoy√©e': 'Trip modification sent',\n",
    "        'Demande de modification de voyage': 'Trip modification request',\n",
    "        'Laissez un commentaire sur le voyageur (expire bient√¥t)': 'Leave a comment on the traveler (expires soon)',\n",
    "        'En attente de commentaire du voyageur': 'Awaiting comment from the traveler',\n",
    "        'S√©jour en cours': 'Stay in progress',\n",
    "        'Laissez un commentaire sur le voyageur': 'Leave a comment on the traveler',\n",
    "        'Confirm√©e': 'Confirmed'\n",
    "    }\n",
    "    df['Status'] = df['Status'].map(translation_map)\n",
    "\n",
    "    df.drop(index=df[df.Revenue == 0].index, inplace=True)\n",
    "    return df"
   ]
  },
  {
   "cell_type": "markdown",
   "id": "23197c0e",
   "metadata": {
    "heading_collapsed": true
   },
   "source": [
    "### Removing irrelevant columns"
   ]
  },
  {
   "cell_type": "code",
   "execution_count": 8,
   "id": "1e4f8ac7",
   "metadata": {
    "hidden": true,
    "scrolled": true
   },
   "outputs": [],
   "source": [
    "def remove_columns(df):\n",
    "    df.drop(columns=['Guest', 'Contact', 'Adults', 'Children', 'Infants', 'Advertisement'], inplace=True)\n",
    "    return df"
   ]
  },
  {
   "cell_type": "markdown",
   "id": "8f4dcb42",
   "metadata": {},
   "source": [
    "## Full formating and csv appending"
   ]
  },
  {
   "cell_type": "markdown",
   "id": "85a854c7",
   "metadata": {
    "heading_collapsed": true
   },
   "source": [
    "### Creating historic csv"
   ]
  },
  {
   "cell_type": "code",
   "execution_count": 9,
   "id": "ecedf5e6",
   "metadata": {
    "hidden": true
   },
   "outputs": [],
   "source": [
    "def full_formating(df):\n",
    "    df = format_header(df)\n",
    "    df = format_date(df)\n",
    "    df = revenue_formating(df)\n",
    "    df = add_owner(df)\n",
    "    df = status_formating(df)\n",
    "    df = remove_columns(df)\n",
    "    \n",
    "    return df"
   ]
  },
  {
   "cell_type": "code",
   "execution_count": 10,
   "id": "8c1f4d8a",
   "metadata": {
    "hidden": true
   },
   "outputs": [],
   "source": [
    "#df = full_formating(df)"
   ]
  },
  {
   "cell_type": "code",
   "execution_count": 11,
   "id": "2334fb2f",
   "metadata": {
    "hidden": true
   },
   "outputs": [],
   "source": [
    "#df.to_csv('data/historic_data_cleaned.csv', index = False)"
   ]
  },
  {
   "cell_type": "markdown",
   "id": "113da51d",
   "metadata": {
    "heading_collapsed": true
   },
   "source": [
    "### Adding to the historic"
   ]
  },
  {
   "cell_type": "code",
   "execution_count": 12,
   "id": "44f6e1f3",
   "metadata": {
    "hidden": true
   },
   "outputs": [],
   "source": [
    "#file = \"data/reservations-4.csv\"\n",
    "#df_to_add = pd.read_csv(file)\n",
    "\n",
    "#df_to_add = format_header(df_to_add)\n",
    "\n",
    "#df_to_add.Start_Date = pd.to_datetime(df_to_add.Start_Date, format='%d/%m/%Y', errors='coerce')\n",
    "#df_to_add.End_Date = pd.to_datetime(df_to_add.End_Date, format='%d/%m/%Y', errors='coerce')\n",
    "#df_to_add.Reserved = pd.to_datetime(df_to_add.Reserved, format='%Y-%m-%d', errors='coerce')\n",
    "\n",
    "#df_to_add.Revenue = df_to_add.Revenue.str.replace('\\xa0€', '').str.replace(',', '.').str.replace('\\u202f', '')\n",
    "\n",
    "#df_to_add =add_owner(df_to_add)\n",
    "\n",
    "translation_map = {\n",
    "    'Ancien voyageur': 'Past traveler',\n",
    "    'Annulée par le voyageur': 'Cancelled by the traveler',\n",
    "    'Annulée par Airbnb': 'Cancelled by Airbnb',\n",
    "    'Modification de voyage envoyée': 'Trip modification sent',\n",
    "    'Demande de modification de voyage': 'Trip modification request',\n",
    "    'Laissez un commentaire sur le voyageur (expire bient√¥t)': 'Leave a comment on the traveler (expires soon)',\n",
    "    'En attente de commentaire du voyageur': 'Awaiting comment from the traveler',\n",
    "    'S√©jour en cours': 'Stay in progress',\n",
    "    'Laissez un commentaire sur le voyageur': 'Leave a comment on the traveler',\n",
    "    'Confirm√©e': 'Confirmed'\n",
    "}\n",
    "#df_to_add['Status'] = df_to_add['Status'].map(translation_map)\n",
    "\n",
    "#df_to_add['Revenue'] = df_to_add['Revenue'].apply(pd.to_numeric, errors='coerce')\n",
    "\n",
    "#df_to_add.drop(index=df_to_add[df_to_add.Revenue == 0].index, inplace=True)\n",
    "\n",
    "#df_to_add = remove_columns(df_to_add)\n",
    "\n",
    "#df_to_add.head()"
   ]
  },
  {
   "cell_type": "code",
   "execution_count": 13,
   "id": "f0741cf5",
   "metadata": {
    "hidden": true
   },
   "outputs": [],
   "source": [
    "#import os\n",
    "\n",
    "# Check if the file exists\n",
    "#file_path = 'data/historic_data_cleaned.csv'\n",
    "\n",
    "# If file doesn't exist, write the header; otherwise, append without the header\n",
    "#if not os.path.exists(file_path):\n",
    "    #df_to_add.to_csv(file_path, mode='w', header=True, index=False)\n",
    "#else:\n",
    "    #df_to_add.to_csv(file_path, mode='a', header=False, index=False)  "
   ]
  },
  {
   "cell_type": "code",
   "execution_count": 14,
   "id": "03121cba",
   "metadata": {
    "hidden": true
   },
   "outputs": [],
   "source": [
    "#pd.read_csv('data/historic_data_cleaned.csv')"
   ]
  },
  {
   "cell_type": "markdown",
   "id": "ff6e70af",
   "metadata": {},
   "source": [
    "# Analysis"
   ]
  },
  {
   "cell_type": "markdown",
   "id": "d901f25d",
   "metadata": {
    "heading_collapsed": true
   },
   "source": [
    "### Creating a table for daily revenue"
   ]
  },
  {
   "cell_type": "code",
   "execution_count": 15,
   "id": "00353d49",
   "metadata": {
    "hidden": true
   },
   "outputs": [],
   "source": [
    "def create_pivot(df, pivot_type = 'Revenue'):\n",
    "    \n",
    "    mode = (lambda pivot_type: 'sum' if pivot_type == 'Revenue' \n",
    "        else 'count' if pivot_type == 'Occupancy' \n",
    "        else \"error mode not recognized\")(pivot_type)\n",
    "\n",
    "    \n",
    "    #split data table into rows per days and create table for each day\n",
    "    rows = []\n",
    "    for i, row in df.iterrows():\n",
    "        for single_date in pd.date_range(start=row.Start_Date, end=row.End_Date, inclusive= 'left'):\n",
    "            rows.append({\n",
    "                'Confirmation_Code': row['Confirmation_Code'],\n",
    "                'Date': single_date,\n",
    "                'Apartment_code': row['Apartment_code'],\n",
    "                'Owner': row['Owner'],\n",
    "                'Status': row['Status'],\n",
    "                'Reserved': row['Reserved'],\n",
    "                'Revenue': row['Revenue'] / (row['Number_of_Nights'])  # Split revenue equally per day\n",
    "            })  \n",
    "\n",
    "    df_days = pd.DataFrame(rows)\n",
    "    # Add a Month column for aggregation\n",
    "    df_days['Month'] = df_days['Date'].dt.to_period('M')\n",
    "\n",
    "    # Pivot table to aggregate revenue per apartment and month\n",
    "    pivot_table = df_days.pivot_table(\n",
    "        index='Apartment_code',\n",
    "        columns='Month',\n",
    "        values='Revenue',\n",
    "        aggfunc= mode,\n",
    "        fill_value=0\n",
    "    )\n",
    "    return pivot_table"
   ]
  },
  {
   "cell_type": "markdown",
   "id": "f24ead0f",
   "metadata": {
    "heading_collapsed": true
   },
   "source": [
    "### Monthly reveue per apartment graphs"
   ]
  },
  {
   "cell_type": "code",
   "execution_count": 16,
   "id": "05a98868",
   "metadata": {
    "hidden": true
   },
   "outputs": [],
   "source": [
    "cleaned_df = pd.read_csv('data/historic_data_cleaned.csv')"
   ]
  },
  {
   "cell_type": "code",
   "execution_count": 17,
   "id": "7eaa0a5c",
   "metadata": {
    "hidden": true
   },
   "outputs": [],
   "source": [
    "cleaned_df['Revenue'] = cleaned_df.apply(\n",
    "    lambda row: (row.Revenue - 50) if row.Apartment_code in [\"Oumnia A2 17\", \"Palmeraie B9 A1\"] \n",
    "    else (row.Revenue - 20), axis=1)\n",
    "cleaned_df['Revenue'] = cleaned_df['Revenue']*0.8             "
   ]
  },
  {
   "cell_type": "code",
   "execution_count": 18,
   "id": "9de34727",
   "metadata": {
    "hidden": true
   },
   "outputs": [],
   "source": [
    "revenue_pivot = create_pivot(cleaned_df, pivot_type = 'Revenue')\n",
    "df2 = create_pivot(cleaned_df, pivot_type = 'Revenue').transpose().reset_index()"
   ]
  },
  {
   "cell_type": "code",
   "execution_count": 19,
   "id": "6054fbc3",
   "metadata": {
    "hidden": true
   },
   "outputs": [
    {
     "data": {
      "image/png": "[encoded data removed]",
      "text/plain": [
       "<Figure size 1000x600 with 1 Axes>"
      ]
     },
     "metadata": {},
     "output_type": "display_data"
    }
   ],
   "source": [
    "columns_to_plot = ['Alia 36', 'Alia 37', 'Alia 41','Alia 22', 'Menara 12', 'Menara 15', 'Oumnia A2 17']\n",
    "\n",
    "plt.figure(figsize=(10, 6))\n",
    "# Create a stacked line chart\n",
    "plt.stackplot(df2.index, df2[columns_to_plot].T, labels=columns_to_plot)\n",
    "\n",
    "# Add title and labels\n",
    "plt.xticks(ticks=range(len(df2)), labels=df2['Month'].values, rotation=45);\n",
    "plt.title('Total Revenue')\n",
    "plt.xlabel('Months')\n",
    "plt.ylabel('Revenue')\n",
    "\n",
    "# Show legend\n",
    "plt.legend(loc='upper left')\n",
    "\n",
    "# Display the plot\n",
    "plt.show()"
   ]
  },
  {
   "cell_type": "markdown",
   "id": "58f4af5d",
   "metadata": {
    "heading_collapsed": true
   },
   "source": [
    "### Colored pivot table functions"
   ]
  },
  {
   "cell_type": "code",
   "execution_count": 20,
   "id": "15a66e58",
   "metadata": {
    "hidden": true
   },
   "outputs": [],
   "source": [
    "def rev_color_grid(df, thresholds):\n",
    "    # Dictionary to store the coloring criteria\n",
    "    color_criteria = np.zeros_like(df, dtype=float)\n",
    "\n",
    "    # Apply color logic based on comparison with row means\n",
    "    for i in range(len(df)):\n",
    "        row_threshold = thresholds.iloc[i][0]  # Get the mean for the current row\n",
    "        \n",
    "        for j in range(len(df.columns)):\n",
    "            value = df.iloc[i, j]\n",
    "            \n",
    "            if pd.notnull(value):  # If the value is not NaN\n",
    "                if value == 0:\n",
    "                    color_criteria[i, j] = 0 # Grey\n",
    "                elif value >= (row_threshold * 1.2):  # Greater than 20% above the row mean\n",
    "                    color_criteria[i, j] = 2  # Green\n",
    "                elif value <= (row_threshold * 0.8):  # Less than 20% below the row mean\n",
    "                    color_criteria[i, j] = -2  # Red\n",
    "                else:  # Between -20% and +20% of the row mean\n",
    "                    color_criteria[i, j] = 1  # Yellow\n",
    "            else:\n",
    "                color_criteria[i, j] = 0  # Leave NaN as 0 for transparent\n",
    "    return color_criteria "
   ]
  },
  {
   "cell_type": "code",
   "execution_count": 21,
   "id": "42112756",
   "metadata": {
    "hidden": true
   },
   "outputs": [],
   "source": [
    "def occ_color_grid(df):\n",
    "    # Dictionary containing the name, row in thresholdsmeans_.iterrows()}\n",
    "\n",
    "    # Dictionary to store the coloring criteria\n",
    "    color_criteria = np.zeros_like(df, dtype=float)\n",
    "    \n",
    "    for j, n in enumerate(df.columns):\n",
    "        col_threshold = round(calendar.monthrange(n.year, n.month)[1]*0.8,0)\n",
    "        \n",
    "        for i in range(len(df)):\n",
    "            value = df.iloc[i, j]\n",
    "            \n",
    "            if pd.notnull(value):  # If the value is not NaN\n",
    "                if value == 0:\n",
    "                    color_criteria[i, j] = 0 # Grey\n",
    "                elif value >= (col_threshold * 1.2):  # Greater than 20% above the monthly threshold\n",
    "                    color_criteria[i, j] = 2  # Green\n",
    "                elif value <= (col_threshold * 0.8):  # Less than 20% below the monthly threshold\n",
    "                    color_criteria[i, j] = -2  # Red\n",
    "                else:  # Between -20% and +20% of the row mean\n",
    "                    color_criteria[i, j] = 1  # Yellow\n",
    "            else:\n",
    "                color_criteria[i, j] = 0  # Leave NaN as 0 for transparent\n",
    "\n",
    "    return color_criteria"
   ]
  },
  {
   "cell_type": "code",
   "execution_count": 22,
   "id": "4e218f65",
   "metadata": {
    "hidden": true
   },
   "outputs": [],
   "source": [
    "def revenue_threshold():\n",
    "    thresholds = pd.DataFrame({\n",
    "    'Apartment_code': ['Alia 22', 'Alia 36', 'Alia 37', 'Alia 41', 'Menara 12', \n",
    "                  'Menara 15', 'Oumnia A2 17', 'Palmeraie B9 A1'],\n",
    "    'Threshold': [650, 850, 650, 800, 1000, 1000, 1800, 2000]})\n",
    "    thresholds = thresholds.set_index('Apartment_code')\n",
    "    return thresholds"
   ]
  },
  {
   "cell_type": "code",
   "execution_count": 23,
   "id": "b7914067",
   "metadata": {
    "hidden": true
   },
   "outputs": [],
   "source": [
    "def display_table(full_df, mode='Revenue', year=2022, owner='all'):\n",
    "    \n",
    "    if (owner=='Mohamed') | (owner=='Mounia'):\n",
    "        full_df = full_df[full_df['Owner']==owner]\n",
    "    \n",
    "    full_pivot = create_pivot(full_df, pivot_type = mode)\n",
    "    \n",
    "    #Select only data for the selected year\n",
    "    selected_time_range = full_pivot.columns[full_pivot.columns.year == year]\n",
    "    df = full_pivot[selected_time_range].round(0).astype(int)\n",
    "    \n",
    "    \n",
    "    if mode == 'Revenue':\n",
    "        thresholds=revenue_threshold() #Extracting revenue averages\n",
    "        color_criteria = rev_color_grid(df, thresholds)\n",
    "    elif mode == 'Occupancy': \n",
    "        color_criteria = occ_color_grid(df)\n",
    "    else:\n",
    "        return 'Mode not recognized'\n",
    "\n",
    "    # Define custom colors: Red, Grey, Yellow, Green\n",
    "    colors_list = [\"#E52916\", \"#dfe6e9\", \"#F1C40F\", \"#27AE60\"]\n",
    "    custom_colors = ListedColormap(colors_list)\n",
    "\n",
    "\n",
    "    # Define boundaries for color mapping: -2, 0, 1, 2\n",
    "    boundaries = [-2.5, -0.5, 0.5, 1.5, 2.5]  # The boundaries define where each color will start and end\n",
    "\n",
    "    # Use BoundaryNorm to map the values (-2, 0, 1, 2) to the colors\n",
    "    norm = BoundaryNorm(boundaries, custom_colors.N)\n",
    "\n",
    "    # Display the DataFrame using imshow with custom colors\n",
    "    fig, ax = plt.subplots(figsize=(12, 5))\n",
    "    im = ax.imshow(color_criteria, cmap=custom_colors, norm=norm, aspect=\"auto\")\n",
    "\n",
    "    # Add text annotations for each cell\n",
    "    for i in range(len(df)):\n",
    "        for j in range(len(df.columns)):\n",
    "            cell_value = df.iloc[i, j]\n",
    "            ax.text(j, i, cell_value, ha=\"center\", va=\"center\", color=\"black\")\n",
    "\n",
    "\n",
    "    # Customize x-ticks and y-ticks\n",
    "    ax.set_xticks(np.arange(len(df.columns)))\n",
    "    ax.set_xticklabels(df.columns, rotation=45, ha=\"left\", weight=\"bold\")  # Rotate x-ticks\n",
    "    ax.tick_params(axis=\"x\", top=True, labeltop=True, bottom=False, labelbottom=False)  # Move x-ticks to the top\n",
    "    ax.set_yticks(np.arange(len(df.index)))\n",
    "    ax.set_yticklabels(df.index, weight=\"bold\")  # Make y-ticks smaller\n",
    "    \n",
    "    # Create custom legend patches\n",
    "    legend_elements = [\n",
    "        Patch(color=colors_list[0], label=f\"More than 20% over threshold\"),\n",
    "        Patch(color=colors_list[1], label=\"NA - No data\"),\n",
    "        Patch(color=colors_list[2], label=f\"Around threshold\"),\n",
    "        Patch(color=colors_list[3], label=f\"More than 20% threshold\")\n",
    "        ]\n",
    "    # Add the legend below the table\n",
    "    ax.legend(handles=legend_elements, loc=\"upper center\", bbox_to_anchor=(0.5, -0.05), ncol=2)\n",
    "\n",
    "    # Set title and adjust layout\n",
    "    ax.set_title(\"Overview of the year\")\n",
    "    plt.tight_layout()\n",
    "    plt.show()\n",
    "    \n",
    "    print(im)\n",
    "\n",
    "    return 0"
   ]
  },
  {
   "cell_type": "markdown",
   "id": "bbed7ea7",
   "metadata": {
    "heading_collapsed": true
   },
   "source": [
    "### Revenue Privot Tables"
   ]
  },
  {
   "cell_type": "code",
   "execution_count": 24,
   "id": "63d97b7e",
   "metadata": {
    "hidden": true
   },
   "outputs": [
    {
     "data": {
      "image/png": "[encoded data removed]",
      "text/plain": [
       "<Figure size 1200x500 with 1 Axes>"
      ]
     },
     "metadata": {},
     "output_type": "display_data"
    },
    {
     "name": "stdout",
     "output_type": "stream",
     "text": [
      "AxesImage(153.597,87.25;1014.91x310.452)\n"
     ]
    },
    {
     "data": {
      "text/plain": [
       "0"
      ]
     },
     "execution_count": 24,
     "metadata": {},
     "output_type": "execute_result"
    }
   ],
   "source": [
    "display_table(cleaned_df, mode='Revenue', year=2024)"
   ]
  },
  {
   "cell_type": "markdown",
   "id": "3d244b8c",
   "metadata": {
    "heading_collapsed": true
   },
   "source": [
    "### Occupancy Pivot Tables"
   ]
  },
  {
   "cell_type": "code",
   "execution_count": 25,
   "id": "cbfdc6d2",
   "metadata": {
    "hidden": true
   },
   "outputs": [
    {
     "data": {
      "image/png": "[encoded data removed]",
      "text/plain": [
       "<Figure size 1200x500 with 1 Axes>"
      ]
     },
     "metadata": {},
     "output_type": "display_data"
    },
    {
     "name": "stdout",
     "output_type": "stream",
     "text": [
      "AxesImage(153.597,87.25;1018.43x310.452)\n"
     ]
    },
    {
     "data": {
      "text/plain": [
       "0"
      ]
     },
     "execution_count": 25,
     "metadata": {},
     "output_type": "execute_result"
    }
   ],
   "source": [
    "display_table(cleaned_df, mode='Occupancy', year=2022)"
   ]
  },
  {
   "cell_type": "markdown",
   "id": "c7b1c9da",
   "metadata": {},
   "source": [
    "### Next steps"
   ]
  },
  {
   "cell_type": "code",
   "execution_count": 26,
   "id": "0494529a",
   "metadata": {},
   "outputs": [],
   "source": [
    "def get_perf_table(cleaned_df):\n",
    "    analysis_table = revenue_threshold()\n",
    "    revenue_pivot = create_pivot(cleaned_df, pivot_type = 'Revenue')\n",
    "\n",
    "    Number_of_months = []\n",
    "    for code in analysis_table.index:\n",
    "        Number_of_months.append((revenue_pivot.drop(columns=['2024-09', '2024-10', '2024-11', '2024-12']).loc[code] != 0).sum())\n",
    "    \n",
    "    analysis_table['Number_of_months'] = Number_of_months\n",
    "    analysis_table['Total_threshold'] = analysis_table['Number_of_months']*analysis_table['Threshold']\n",
    "    analysis_table['Total_revenue'] = revenue_pivot.sum(axis=1)\n",
    "    analysis_table['Real_Earnings'] = analysis_table['Total_revenue']-analysis_table['Total_threshold']\n",
    "    analysis_table['Performance (%)']=analysis_table['Real_Earnings']/analysis_table['Number_of_months']/analysis_table['Threshold']*100\n",
    "    analysis_table.drop(columns=['Number_of_months', 'Total_threshold'], inplace=True)\n",
    "    analysis_table.drop(index=['Menara 12', 'Palmeraie B9 A1'], inplace=True)\n",
    "    analysis_table = analysis_table.astype(int)\n",
    "    return analysis_table"
   ]
  },
  {
   "cell_type": "code",
   "execution_count": 27,
   "id": "a2a9f3d2",
   "metadata": {},
   "outputs": [],
   "source": [
    "def perf_color_grid(df):\n",
    "    # Dictionary to store the coloring criteria\n",
    "    color_criteria = np.zeros_like(df, dtype=float)\n",
    "    \n",
    "    for j, n in enumerate(df.columns):\n",
    "        if n == 'Real_Earnings':\n",
    "            for i in range(len(df)):\n",
    "                value = df.iloc[i, j]\n",
    "                if value < 0:\n",
    "                    color_criteria[i, j]=-2\n",
    "                elif value > 0:\n",
    "                    color_criteria[i, j]=2\n",
    "        elif n == 'Performance (%)':\n",
    "            for i in range(len(df)):\n",
    "                value = df.iloc[i, j]\n",
    "                if value < 0:\n",
    "                    color_criteria[i, j]=-2\n",
    "                elif value > 0 and value < 30:\n",
    "                    color_criteria[i, j]=1\n",
    "                elif value > 30:\n",
    "                    color_criteria[i, j]=2\n",
    "\n",
    "    return color_criteria"
   ]
  },
  {
   "cell_type": "code",
   "execution_count": 28,
   "id": "f7c14229",
   "metadata": {},
   "outputs": [],
   "source": [
    "def display_perf(df):\n",
    "    \n",
    "\n",
    "    color_criteria = perf_color_grid(df)\n",
    "\n",
    "\n",
    "    # Define custom colors: Red, Grey, Yellow, Green\n",
    "    colors_list = [\"#E52916\", \"#dfe6e9\", \"#F1C40F\", \"#27AE60\"]\n",
    "    custom_colors = ListedColormap(colors_list)\n",
    "\n",
    "\n",
    "    # Define boundaries for color mapping: -2, 0, 1, 2\n",
    "    boundaries = [-2.5, -0.5, 0.5, 1.5, 2.5]  # The boundaries define where each color will start and end\n",
    "\n",
    "    # Use BoundaryNorm to map the values (-2, 0, 1, 2) to the colors\n",
    "    norm = BoundaryNorm(boundaries, custom_colors.N)\n",
    "\n",
    "    # Display the DataFrame using imshow with custom colors\n",
    "    fig, ax = plt.subplots(figsize=(6, 5))\n",
    "    im = ax.imshow(color_criteria, cmap=custom_colors, norm=norm, aspect=\"auto\")\n",
    "\n",
    "    # Add text annotations for each cell\n",
    "    for i in range(len(df)):\n",
    "        for j in range(len(df.columns)):\n",
    "            cell_value = df.iloc[i, j]\n",
    "            ax.text(j, i, cell_value, ha=\"center\", va=\"center\", color=\"black\")\n",
    "\n",
    "\n",
    "    # Customize x-ticks and y-ticks\n",
    "    ax.set_xticks(np.arange(len(df.columns)))\n",
    "    ax.set_xticklabels(df.columns, rotation=45, ha=\"left\", weight=\"bold\")  # Rotate x-ticks\n",
    "    ax.tick_params(axis=\"x\", top=True, labeltop=True, bottom=False, labelbottom=False)  # Move x-ticks to the top\n",
    "    ax.set_yticks(np.arange(len(df.index)))\n",
    "    ax.set_yticklabels(df.index, weight=\"bold\")  # Make y-ticks smaller\n",
    "    \n",
    "    # Create custom legend patches\n",
    "    legend_elements = [\n",
    "        Patch(color=colors_list[0], label=f\"Negative performance\"),\n",
    "        Patch(color=colors_list[2], label=f\"Average performance\"),\n",
    "        Patch(color=colors_list[3], label=f\"Good performance\")\n",
    "        ]\n",
    "    # Add the legend below the table\n",
    "    ax.legend(handles=legend_elements, loc=\"upper center\", bbox_to_anchor=(0.5, -0.05), ncol=2)\n",
    "\n",
    "    # Set title and adjust layout\n",
    "    ax.set_title(\"Overview of the year\")\n",
    "    plt.tight_layout()\n",
    "    plt.show()\n",
    "    \n",
    "    print(im)\n",
    "\n",
    "    return 0\n"
   ]
  },
  {
   "cell_type": "code",
   "execution_count": 29,
   "id": "a099579c",
   "metadata": {},
   "outputs": [],
   "source": [
    "def create_yearly_overview(mode='Revenue', year=2022, owner='all'):\n",
    "    '''Creates yearly overvew'''\n",
    "    if (owner=='Mohamed') | (owner=='Mounia'):\n",
    "        full_df = full_df[full_df['Owner']==owner]\n",
    "\n",
    "    full_pivot = get_pivot(pivot_type = mode)\n",
    "\n",
    "    #Select only data for the selected year\n",
    "    selected_time_range = full_pivot.columns[full_pivot.columns.year == year]\n",
    "    yearly_overview = full_pivot[selected_time_range].round(0).astype(int)\n",
    "\n",
    "    return yearly_overview"
   ]
  },
  {
   "cell_type": "code",
   "execution_count": 30,
   "id": "1cf8660d",
   "metadata": {},
   "outputs": [],
   "source": [
    "thresholds = get_perf_table(cleaned_df)"
   ]
  },
  {
   "cell_type": "code",
   "execution_count": null,
   "id": "5a2ba890",
   "metadata": {},
   "outputs": [],
   "source": [
    "\n"
   ]
  },
  {
   "cell_type": "code",
   "execution_count": 31,
   "id": "109860b0",
   "metadata": {},
   "outputs": [],
   "source": [
    "def revenue_threshold():\n",
    "    '''Returns the thresholds used to measur performance'''\n",
    "    rents = [7000, 8500, 7000, 9000, 10000, 10000, 18000, 18000]\n",
    "    thresholds = pd.DataFrame({\n",
    "    'Apartment_code': ['Alia 22', 'Alia 36', 'Alia 37', 'Alia 41', 'Menara 12',\n",
    "                  'Menara 15', 'Oumnia A2 17', 'Palmeraie B9 A1'],\n",
    "    'Threshold (EUR)': [i/10.5 for i in rents],\n",
    "    'Threshold (MAD)': rents}\n",
    "    )\n",
    "    thresholds = thresholds.set_index('Apartment_code')\n",
    "    return thresholds"
   ]
  },
  {
   "cell_type": "code",
   "execution_count": 32,
   "id": "81ae4343",
   "metadata": {},
   "outputs": [
    {
     "data": {
      "text/html": [
       "<div>\n",
       "<style scoped>\n",
       "    .dataframe tbody tr th:only-of-type {\n",
       "        vertical-align: middle;\n",
       "    }\n",
       "\n",
       "    .dataframe tbody tr th {\n",
       "        vertical-align: top;\n",
       "    }\n",
       "\n",
       "    .dataframe thead th {\n",
       "        text-align: right;\n",
       "    }\n",
       "</style>\n",
       "<table border=\"1\" class=\"dataframe\">\n",
       "  <thead>\n",
       "    <tr style=\"text-align: right;\">\n",
       "      <th>Month</th>\n",
       "      <th>2022-02</th>\n",
       "      <th>2022-03</th>\n",
       "      <th>2022-04</th>\n",
       "      <th>2022-05</th>\n",
       "      <th>2022-06</th>\n",
       "      <th>2022-07</th>\n",
       "      <th>2022-08</th>\n",
       "      <th>2022-09</th>\n",
       "      <th>2022-10</th>\n",
       "      <th>2022-11</th>\n",
       "      <th>...</th>\n",
       "      <th>2024-03</th>\n",
       "      <th>2024-04</th>\n",
       "      <th>2024-05</th>\n",
       "      <th>2024-06</th>\n",
       "      <th>2024-07</th>\n",
       "      <th>2024-08</th>\n",
       "      <th>2024-09</th>\n",
       "      <th>2024-10</th>\n",
       "      <th>2024-11</th>\n",
       "      <th>2024-12</th>\n",
       "    </tr>\n",
       "    <tr>\n",
       "      <th>Apartment_code</th>\n",
       "      <th></th>\n",
       "      <th></th>\n",
       "      <th></th>\n",
       "      <th></th>\n",
       "      <th></th>\n",
       "      <th></th>\n",
       "      <th></th>\n",
       "      <th></th>\n",
       "      <th></th>\n",
       "      <th></th>\n",
       "      <th></th>\n",
       "      <th></th>\n",
       "      <th></th>\n",
       "      <th></th>\n",
       "      <th></th>\n",
       "      <th></th>\n",
       "      <th></th>\n",
       "      <th></th>\n",
       "      <th></th>\n",
       "      <th></th>\n",
       "      <th></th>\n",
       "    </tr>\n",
       "  </thead>\n",
       "  <tbody>\n",
       "    <tr>\n",
       "      <th>Alia 22</th>\n",
       "      <td>0.000000</td>\n",
       "      <td>0.000000</td>\n",
       "      <td>0.000000</td>\n",
       "      <td>422.208000</td>\n",
       "      <td>765.104000</td>\n",
       "      <td>813.260444</td>\n",
       "      <td>994.619556</td>\n",
       "      <td>918.544000</td>\n",
       "      <td>1044.904000</td>\n",
       "      <td>984.328000</td>\n",
       "      <td>...</td>\n",
       "      <td>555.906000</td>\n",
       "      <td>1049.354971</td>\n",
       "      <td>2081.381029</td>\n",
       "      <td>482.873600</td>\n",
       "      <td>1301.542400</td>\n",
       "      <td>1582.984000</td>\n",
       "      <td>0.000000</td>\n",
       "      <td>0.000</td>\n",
       "      <td>0.000</td>\n",
       "      <td>0.00</td>\n",
       "    </tr>\n",
       "    <tr>\n",
       "      <th>Alia 36</th>\n",
       "      <td>0.000000</td>\n",
       "      <td>0.000000</td>\n",
       "      <td>0.000000</td>\n",
       "      <td>422.208000</td>\n",
       "      <td>765.104000</td>\n",
       "      <td>813.260444</td>\n",
       "      <td>994.619556</td>\n",
       "      <td>918.544000</td>\n",
       "      <td>1044.904000</td>\n",
       "      <td>984.328000</td>\n",
       "      <td>...</td>\n",
       "      <td>154.586000</td>\n",
       "      <td>577.054400</td>\n",
       "      <td>932.425600</td>\n",
       "      <td>34.840000</td>\n",
       "      <td>455.008000</td>\n",
       "      <td>813.816000</td>\n",
       "      <td>0.000000</td>\n",
       "      <td>233.768</td>\n",
       "      <td>311.912</td>\n",
       "      <td>61.88</td>\n",
       "    </tr>\n",
       "    <tr>\n",
       "      <th>Alia 37</th>\n",
       "      <td>0.000000</td>\n",
       "      <td>821.472000</td>\n",
       "      <td>36.570667</td>\n",
       "      <td>1007.981333</td>\n",
       "      <td>1097.760000</td>\n",
       "      <td>1109.200000</td>\n",
       "      <td>923.446857</td>\n",
       "      <td>1046.002286</td>\n",
       "      <td>798.262857</td>\n",
       "      <td>929.888000</td>\n",
       "      <td>...</td>\n",
       "      <td>308.787429</td>\n",
       "      <td>580.696000</td>\n",
       "      <td>889.240000</td>\n",
       "      <td>288.856000</td>\n",
       "      <td>0.000000</td>\n",
       "      <td>1030.403636</td>\n",
       "      <td>318.076364</td>\n",
       "      <td>0.000</td>\n",
       "      <td>0.000</td>\n",
       "      <td>0.00</td>\n",
       "    </tr>\n",
       "    <tr>\n",
       "      <th>Alia 41</th>\n",
       "      <td>205.626667</td>\n",
       "      <td>890.901333</td>\n",
       "      <td>549.537143</td>\n",
       "      <td>1126.766857</td>\n",
       "      <td>771.786667</td>\n",
       "      <td>1059.378667</td>\n",
       "      <td>1490.613867</td>\n",
       "      <td>1061.948800</td>\n",
       "      <td>1059.568000</td>\n",
       "      <td>1048.949714</td>\n",
       "      <td>...</td>\n",
       "      <td>685.476698</td>\n",
       "      <td>1028.372444</td>\n",
       "      <td>1046.058182</td>\n",
       "      <td>603.261818</td>\n",
       "      <td>619.054400</td>\n",
       "      <td>821.409600</td>\n",
       "      <td>246.880000</td>\n",
       "      <td>0.000</td>\n",
       "      <td>0.000</td>\n",
       "      <td>0.00</td>\n",
       "    </tr>\n",
       "    <tr>\n",
       "      <th>Menara 12</th>\n",
       "      <td>0.000000</td>\n",
       "      <td>0.000000</td>\n",
       "      <td>0.000000</td>\n",
       "      <td>0.000000</td>\n",
       "      <td>0.000000</td>\n",
       "      <td>0.000000</td>\n",
       "      <td>0.000000</td>\n",
       "      <td>0.000000</td>\n",
       "      <td>0.000000</td>\n",
       "      <td>0.000000</td>\n",
       "      <td>...</td>\n",
       "      <td>0.000000</td>\n",
       "      <td>0.000000</td>\n",
       "      <td>0.000000</td>\n",
       "      <td>0.000000</td>\n",
       "      <td>0.000000</td>\n",
       "      <td>0.000000</td>\n",
       "      <td>163.408000</td>\n",
       "      <td>0.000</td>\n",
       "      <td>0.000</td>\n",
       "      <td>0.00</td>\n",
       "    </tr>\n",
       "    <tr>\n",
       "      <th>Menara 15</th>\n",
       "      <td>0.000000</td>\n",
       "      <td>0.000000</td>\n",
       "      <td>0.000000</td>\n",
       "      <td>0.000000</td>\n",
       "      <td>0.000000</td>\n",
       "      <td>0.000000</td>\n",
       "      <td>0.000000</td>\n",
       "      <td>0.000000</td>\n",
       "      <td>0.000000</td>\n",
       "      <td>0.000000</td>\n",
       "      <td>...</td>\n",
       "      <td>0.000000</td>\n",
       "      <td>721.048889</td>\n",
       "      <td>1498.143111</td>\n",
       "      <td>1267.536000</td>\n",
       "      <td>2534.208000</td>\n",
       "      <td>3908.627200</td>\n",
       "      <td>1816.892800</td>\n",
       "      <td>209.248</td>\n",
       "      <td>0.000</td>\n",
       "      <td>0.00</td>\n",
       "    </tr>\n",
       "    <tr>\n",
       "      <th>Oumnia A2 17</th>\n",
       "      <td>0.000000</td>\n",
       "      <td>0.000000</td>\n",
       "      <td>0.000000</td>\n",
       "      <td>0.000000</td>\n",
       "      <td>0.000000</td>\n",
       "      <td>0.000000</td>\n",
       "      <td>0.000000</td>\n",
       "      <td>0.000000</td>\n",
       "      <td>0.000000</td>\n",
       "      <td>0.000000</td>\n",
       "      <td>...</td>\n",
       "      <td>1548.723429</td>\n",
       "      <td>1555.696000</td>\n",
       "      <td>2078.686857</td>\n",
       "      <td>1181.897143</td>\n",
       "      <td>1522.206857</td>\n",
       "      <td>2050.129143</td>\n",
       "      <td>602.032000</td>\n",
       "      <td>479.424</td>\n",
       "      <td>0.000</td>\n",
       "      <td>0.00</td>\n",
       "    </tr>\n",
       "    <tr>\n",
       "      <th>Palmeraie B9 A1</th>\n",
       "      <td>0.000000</td>\n",
       "      <td>0.000000</td>\n",
       "      <td>0.000000</td>\n",
       "      <td>0.000000</td>\n",
       "      <td>0.000000</td>\n",
       "      <td>0.000000</td>\n",
       "      <td>0.000000</td>\n",
       "      <td>0.000000</td>\n",
       "      <td>0.000000</td>\n",
       "      <td>0.000000</td>\n",
       "      <td>...</td>\n",
       "      <td>0.000000</td>\n",
       "      <td>0.000000</td>\n",
       "      <td>0.000000</td>\n",
       "      <td>0.000000</td>\n",
       "      <td>0.000000</td>\n",
       "      <td>1695.040000</td>\n",
       "      <td>611.440000</td>\n",
       "      <td>871.800</td>\n",
       "      <td>0.000</td>\n",
       "      <td>0.00</td>\n",
       "    </tr>\n",
       "  </tbody>\n",
       "</table>\n",
       "<p>8 rows × 35 columns</p>\n",
       "</div>"
      ],
      "text/plain": [
       "Month               2022-02     2022-03     2022-04      2022-05      2022-06  \\\n",
       "Apartment_code                                                                  \n",
       "Alia 22            0.000000    0.000000    0.000000   422.208000   765.104000   \n",
       "Alia 36            0.000000    0.000000    0.000000   422.208000   765.104000   \n",
       "Alia 37            0.000000  821.472000   36.570667  1007.981333  1097.760000   \n",
       "Alia 41          205.626667  890.901333  549.537143  1126.766857   771.786667   \n",
       "Menara 12          0.000000    0.000000    0.000000     0.000000     0.000000   \n",
       "Menara 15          0.000000    0.000000    0.000000     0.000000     0.000000   \n",
       "Oumnia A2 17       0.000000    0.000000    0.000000     0.000000     0.000000   \n",
       "Palmeraie B9 A1    0.000000    0.000000    0.000000     0.000000     0.000000   \n",
       "\n",
       "Month                2022-07      2022-08      2022-09      2022-10  \\\n",
       "Apartment_code                                                        \n",
       "Alia 22           813.260444   994.619556   918.544000  1044.904000   \n",
       "Alia 36           813.260444   994.619556   918.544000  1044.904000   \n",
       "Alia 37          1109.200000   923.446857  1046.002286   798.262857   \n",
       "Alia 41          1059.378667  1490.613867  1061.948800  1059.568000   \n",
       "Menara 12           0.000000     0.000000     0.000000     0.000000   \n",
       "Menara 15           0.000000     0.000000     0.000000     0.000000   \n",
       "Oumnia A2 17        0.000000     0.000000     0.000000     0.000000   \n",
       "Palmeraie B9 A1     0.000000     0.000000     0.000000     0.000000   \n",
       "\n",
       "Month                2022-11  ...      2024-03      2024-04      2024-05  \\\n",
       "Apartment_code                ...                                          \n",
       "Alia 22           984.328000  ...   555.906000  1049.354971  2081.381029   \n",
       "Alia 36           984.328000  ...   154.586000   577.054400   932.425600   \n",
       "Alia 37           929.888000  ...   308.787429   580.696000   889.240000   \n",
       "Alia 41          1048.949714  ...   685.476698  1028.372444  1046.058182   \n",
       "Menara 12           0.000000  ...     0.000000     0.000000     0.000000   \n",
       "Menara 15           0.000000  ...     0.000000   721.048889  1498.143111   \n",
       "Oumnia A2 17        0.000000  ...  1548.723429  1555.696000  2078.686857   \n",
       "Palmeraie B9 A1     0.000000  ...     0.000000     0.000000     0.000000   \n",
       "\n",
       "Month                2024-06      2024-07      2024-08      2024-09  2024-10  \\\n",
       "Apartment_code                                                                 \n",
       "Alia 22           482.873600  1301.542400  1582.984000     0.000000    0.000   \n",
       "Alia 36            34.840000   455.008000   813.816000     0.000000  233.768   \n",
       "Alia 37           288.856000     0.000000  1030.403636   318.076364    0.000   \n",
       "Alia 41           603.261818   619.054400   821.409600   246.880000    0.000   \n",
       "Menara 12           0.000000     0.000000     0.000000   163.408000    0.000   \n",
       "Menara 15        1267.536000  2534.208000  3908.627200  1816.892800  209.248   \n",
       "Oumnia A2 17     1181.897143  1522.206857  2050.129143   602.032000  479.424   \n",
       "Palmeraie B9 A1     0.000000     0.000000  1695.040000   611.440000  871.800   \n",
       "\n",
       "Month            2024-11  2024-12  \n",
       "Apartment_code                     \n",
       "Alia 22            0.000     0.00  \n",
       "Alia 36          311.912    61.88  \n",
       "Alia 37            0.000     0.00  \n",
       "Alia 41            0.000     0.00  \n",
       "Menara 12          0.000     0.00  \n",
       "Menara 15          0.000     0.00  \n",
       "Oumnia A2 17       0.000     0.00  \n",
       "Palmeraie B9 A1    0.000     0.00  \n",
       "\n",
       "[8 rows x 35 columns]"
      ]
     },
     "execution_count": 32,
     "metadata": {},
     "output_type": "execute_result"
    }
   ],
   "source": [
    "create_pivot(cleaned_df, pivot_type = 'Revenue')"
   ]
  },
  {
   "cell_type": "code",
   "execution_count": 59,
   "id": "7fe4f086",
   "metadata": {},
   "outputs": [
    {
     "name": "stderr",
     "output_type": "stream",
     "text": [
      "/var/folders/62/w1m4n5z17wbd9l418k5vd8140000gn/T/ipykernel_68713/3516343737.py:12: RuntimeWarning: invalid value encountered in divide\n",
      "  performance = np.nan_to_num(np.divide(rev - (months * thres), (months * thres))*100, nan = 0)\n"
     ]
    },
    {
     "data": {
      "text/html": [
       "<div>\n",
       "<style scoped>\n",
       "    .dataframe tbody tr th:only-of-type {\n",
       "        vertical-align: middle;\n",
       "    }\n",
       "\n",
       "    .dataframe tbody tr th {\n",
       "        vertical-align: top;\n",
       "    }\n",
       "\n",
       "    .dataframe thead tr th {\n",
       "        text-align: left;\n",
       "    }\n",
       "\n",
       "    .dataframe thead tr:last-of-type th {\n",
       "        text-align: right;\n",
       "    }\n",
       "</style>\n",
       "<table border=\"1\" class=\"dataframe\">\n",
       "  <thead>\n",
       "    <tr>\n",
       "      <th></th>\n",
       "      <th colspan=\"3\" halign=\"left\">2022</th>\n",
       "      <th colspan=\"3\" halign=\"left\">2023</th>\n",
       "      <th colspan=\"3\" halign=\"left\">2024</th>\n",
       "    </tr>\n",
       "    <tr>\n",
       "      <th></th>\n",
       "      <th># of months</th>\n",
       "      <th>total revenue</th>\n",
       "      <th>performance</th>\n",
       "      <th># of months</th>\n",
       "      <th>total revenue</th>\n",
       "      <th>performance</th>\n",
       "      <th># of months</th>\n",
       "      <th>total revenue</th>\n",
       "      <th>performance</th>\n",
       "    </tr>\n",
       "    <tr>\n",
       "      <th>Apartment_code</th>\n",
       "      <th></th>\n",
       "      <th></th>\n",
       "      <th></th>\n",
       "      <th></th>\n",
       "      <th></th>\n",
       "      <th></th>\n",
       "      <th></th>\n",
       "      <th></th>\n",
       "      <th></th>\n",
       "    </tr>\n",
       "  </thead>\n",
       "  <tbody>\n",
       "    <tr>\n",
       "      <th>Alia 22</th>\n",
       "      <td>8</td>\n",
       "      <td>6938</td>\n",
       "      <td>30</td>\n",
       "      <td>12</td>\n",
       "      <td>11509</td>\n",
       "      <td>43</td>\n",
       "      <td>8</td>\n",
       "      <td>9266</td>\n",
       "      <td>73</td>\n",
       "    </tr>\n",
       "    <tr>\n",
       "      <th>Alia 36</th>\n",
       "      <td>8</td>\n",
       "      <td>6938</td>\n",
       "      <td>7</td>\n",
       "      <td>12</td>\n",
       "      <td>9696</td>\n",
       "      <td>0</td>\n",
       "      <td>8</td>\n",
       "      <td>3891</td>\n",
       "      <td>-39</td>\n",
       "    </tr>\n",
       "    <tr>\n",
       "      <th>Alia 37</th>\n",
       "      <td>10</td>\n",
       "      <td>8775</td>\n",
       "      <td>31</td>\n",
       "      <td>12</td>\n",
       "      <td>9028</td>\n",
       "      <td>12</td>\n",
       "      <td>7</td>\n",
       "      <td>4908</td>\n",
       "      <td>5</td>\n",
       "    </tr>\n",
       "    <tr>\n",
       "      <th>Alia 41</th>\n",
       "      <td>11</td>\n",
       "      <td>10365</td>\n",
       "      <td>9</td>\n",
       "      <td>12</td>\n",
       "      <td>11426</td>\n",
       "      <td>11</td>\n",
       "      <td>8</td>\n",
       "      <td>6434</td>\n",
       "      <td>-6</td>\n",
       "    </tr>\n",
       "    <tr>\n",
       "      <th>Menara 15</th>\n",
       "      <td>0</td>\n",
       "      <td>0</td>\n",
       "      <td>0</td>\n",
       "      <td>0</td>\n",
       "      <td>0</td>\n",
       "      <td>0</td>\n",
       "      <td>5</td>\n",
       "      <td>9929</td>\n",
       "      <td>108</td>\n",
       "    </tr>\n",
       "    <tr>\n",
       "      <th>Oumnia A2 17</th>\n",
       "      <td>0</td>\n",
       "      <td>0</td>\n",
       "      <td>0</td>\n",
       "      <td>8</td>\n",
       "      <td>13848</td>\n",
       "      <td>0</td>\n",
       "      <td>8</td>\n",
       "      <td>13280</td>\n",
       "      <td>-3</td>\n",
       "    </tr>\n",
       "  </tbody>\n",
       "</table>\n",
       "</div>"
      ],
      "text/plain": [
       "                      2022                                  2023  \\\n",
       "               # of months total revenue performance # of months   \n",
       "Apartment_code                                                     \n",
       "Alia 22                  8          6938          30          12   \n",
       "Alia 36                  8          6938           7          12   \n",
       "Alia 37                 10          8775          31          12   \n",
       "Alia 41                 11         10365           9          12   \n",
       "Menara 15                0             0           0           0   \n",
       "Oumnia A2 17             0             0           0           8   \n",
       "\n",
       "                                                2024                            \n",
       "               total revenue performance # of months total revenue performance  \n",
       "Apartment_code                                                                  \n",
       "Alia 22                11509          43           8          9266          73  \n",
       "Alia 36                 9696           0           8          3891         -39  \n",
       "Alia 37                 9028          12           7          4908           5  \n",
       "Alia 41                11426          11           8          6434          -6  \n",
       "Menara 15                  0           0           5          9929         108  \n",
       "Oumnia A2 17           13848           0           8         13280          -3  "
      ]
     },
     "execution_count": 59,
     "metadata": {},
     "output_type": "execute_result"
    }
   ],
   "source": [
    "def create_overview():\n",
    "    thresholds = revenue_threshold().drop(index=['Palmeraie B9 A1','Menara 12'])\n",
    "    thres = np.array(thresholds['Threshold (EUR)'].to_list())\n",
    "    pivot = create_pivot(cleaned_df, pivot_type = 'Revenue')\n",
    "    pivot = pivot.drop(columns=['2024-09', '2024-10', '2024-11', '2024-12'], index=['Palmeraie B9 A1','Menara 12' ])\n",
    "\n",
    "    data = {}\n",
    "    for year in [2022, 2023, 2024]:\n",
    "        selected_range = pivot.columns[pivot.columns.year == year]\n",
    "        months = np.array((pivot[selected_range] != 0).sum(axis=1).to_list())\n",
    "        rev = np.array(pivot[selected_range].sum(axis=1).to_list())\n",
    "        performance = np.nan_to_num(np.divide(rev - (months * thres), (months * thres))*100, nan = 0)\n",
    "        \n",
    "        data[(str(year), '# of months')] = months.tolist()\n",
    "        data[(str(year), 'total revenue')] = rev.tolist()\n",
    "        data[(str(year), 'performance')] = performance.tolist()\n",
    "    \n",
    "        # Create a DataFrame from the results\n",
    "    data_df = pd.DataFrame(data, index = thresholds.index).astype(int)\n",
    "    return data_df\n",
    "\n",
    "create_overview()"
   ]
  },
  {
   "cell_type": "code",
   "execution_count": 54,
   "id": "9f4e9707",
   "metadata": {},
   "outputs": [],
   "source": []
  },
  {
   "cell_type": "code",
   "execution_count": 56,
   "id": "1fa2cf66",
   "metadata": {},
   "outputs": [
    {
     "ename": "AttributeError",
     "evalue": "'int' object has no attribute 'isnull'",
     "output_type": "error",
     "traceback": [
      "\u001b[0;31m---------------------------------------------------------------------------\u001b[0m",
      "\u001b[0;31mAttributeError\u001b[0m                            Traceback (most recent call last)",
      "Cell \u001b[0;32mIn [56], line 1\u001b[0m\n\u001b[0;32m----> 1\u001b[0m \u001b[43ma\u001b[49m\u001b[38;5;241;43m.\u001b[39;49m\u001b[43misnull\u001b[49m()\n",
      "\u001b[0;31mAttributeError\u001b[0m: 'int' object has no attribute 'isnull'"
     ]
    }
   ],
   "source": [
    "a.isnull()"
   ]
  },
  {
   "cell_type": "code",
   "execution_count": null,
   "id": "5bacf903",
   "metadata": {},
   "outputs": [],
   "source": []
  },
  {
   "cell_type": "code",
   "execution_count": null,
   "id": "89132f86",
   "metadata": {},
   "outputs": [],
   "source": []
  }
 ],
 "metadata": {
  "kernelspec": {
   "display_name": "Python 3 (ipykernel)",
   "language": "python",
   "name": "python3"
  },
  "language_info": {
   "codemirror_mode": {
    "name": "ipython",
    "version": 3
   },
   "file_extension": ".py",
   "mimetype": "text/x-python",
   "name": "python",
   "nbconvert_exporter": "python",
   "pygments_lexer": "ipython3",
   "version": "3.10.6"
  },
  "toc": {
   "base_numbering": 1,
   "nav_menu": {},
   "number_sections": true,
   "sideBar": true,
   "skip_h1_title": false,
   "title_cell": "Table of Contents",
   "title_sidebar": "Contents",
   "toc_cell": false,
   "toc_position": {},
   "toc_section_display": true,
   "toc_window_display": false
  }
 },
 "nbformat": 4,
 "nbformat_minor": 5
}
